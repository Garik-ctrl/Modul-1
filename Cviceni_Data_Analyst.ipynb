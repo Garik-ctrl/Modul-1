{
  "nbformat": 4,
  "nbformat_minor": 0,
  "metadata": {
    "colab": {
      "provenance": [],
      "toc_visible": true,
      "authorship_tag": "ABX9TyNDb0S0QHEKiN8SQrhHCTfM",
      "include_colab_link": true
    },
    "kernelspec": {
      "name": "python3",
      "display_name": "Python 3"
    },
    "language_info": {
      "name": "python"
    }
  },
  "cells": [
    {
      "cell_type": "markdown",
      "metadata": {
        "id": "view-in-github",
        "colab_type": "text"
      },
      "source": [
        "<a href=\"https://colab.research.google.com/github/Garik-ctrl/Modul-1/blob/main/Cviceni_Data_Analyst.ipynb\" target=\"_parent\"><img src=\"https://colab.research.google.com/assets/colab-badge.svg\" alt=\"Open In Colab\"/></a>"
      ]
    },
    {
      "cell_type": "markdown",
      "source": [
        "# Cykly"
      ],
      "metadata": {
        "id": "5ex8bQqpGiaW"
      }
    },
    {
      "cell_type": "markdown",
      "source": [
        "### Př. 1 Zletilost\n",
        "\n",
        "Na vstupu dostanu věk, jako výstup dostanu\n",
        "\n",
        "\"Jste dospělý/á\"\n",
        "nebo\n",
        "\"Jste nezletilý/á\""
      ],
      "metadata": {
        "id": "kZsdccH7GUqV"
      }
    },
    {
      "cell_type": "code",
      "execution_count": null,
      "metadata": {
        "id": "gPLJkPo-lxxv",
        "colab": {
          "base_uri": "https://localhost:8080/"
        },
        "outputId": "50a487ec-01b0-4790-aac4-3dcad3aa1bf9"
      },
      "outputs": [
        {
          "output_type": "stream",
          "name": "stdout",
          "text": [
            "Jste nezletilý/á.\n"
          ]
        }
      ],
      "source": [
        "vek = 21\n",
        "\n",
        "if vek >= 18: #podmínka\n",
        "    print(\"Jste dospělý/á.\")\n",
        "else:\n",
        "    print(\"Jste nezletilý/á.\")"
      ]
    },
    {
      "cell_type": "markdown",
      "source": [
        "### Př. 2 Sudost/lichost\n",
        "\n",
        "Na vstupu dostanu číslo, na výstupu dostanu výsledek ve tvaru\n",
        "\n",
        "\"Číslo 2 je sudé.\"\n",
        "nebo\n",
        "\"Číslo 3 je liché.\""
      ],
      "metadata": {
        "id": "3wAqD22cHI9x"
      }
    },
    {
      "cell_type": "code",
      "source": [
        "cislo = int(input(\"Zadejte číslo: \"))\n",
        "\n",
        "if cislo % 2 == 0: # pokud porovnávám, tak dávám dvě rovnítka\n",
        "    print(f\"Číslo {cislo} je sudé.\")\n",
        "else:\n",
        "    print(f\"Číslo {cislo} je liché.\")"
      ],
      "metadata": {
        "colab": {
          "base_uri": "https://localhost:8080/"
        },
        "id": "L-1ZBx35HOm0",
        "outputId": "698b0e9b-b75b-4842-9d87-17939bfac7ad"
      },
      "execution_count": null,
      "outputs": [
        {
          "output_type": "stream",
          "name": "stdout",
          "text": [
            "Zadejte číslo: 56\n",
            "Číslo 56 je sudé.\n"
          ]
        }
      ]
    },
    {
      "cell_type": "markdown",
      "source": [
        "### Př. 3 Známka ve škole\n",
        "\n",
        "Na vstupu dostanu známku z testu,\n",
        "\n",
        "na výstupu dostanu slovní ohodnocení tj. zadám-li 1, tak výsledek bude \"výborně\""
      ],
      "metadata": {
        "id": "wBcPZIEFHeAZ"
      }
    },
    {
      "cell_type": "code",
      "source": [
        "známka = int(input(\"Zadejte známku (1-5): \"))\n",
        "\n",
        "if známka == 1:\n",
        "    print(\"Výborně!\")\n",
        "elif známka == 2:\n",
        "    print(\"Chvalitebně.\")\n",
        "elif známka == 3:\n",
        "    print(\"Dobře.\")\n",
        "elif známka == 4:\n",
        "    print(\"Dostatečně.\")\n",
        "elif známka == 5:\n",
        "    print(\"Nedostatečně.\")\n",
        "else:\n",
        "    print(\"Neplatná známka.\")\n"
      ],
      "metadata": {
        "colab": {
          "base_uri": "https://localhost:8080/"
        },
        "id": "YwtvE65rHdGf",
        "outputId": "cded4288-cef9-4fbf-d993-d730934f1bc0"
      },
      "execution_count": null,
      "outputs": [
        {
          "output_type": "stream",
          "name": "stdout",
          "text": [
            "Zadejte známku (1-5): 5\n",
            "Nedostatečně.\n"
          ]
        }
      ]
    },
    {
      "cell_type": "markdown",
      "source": [
        "### Př. 4 jmeno & heslo\n",
        "využití logických funkcí 'and' a 'or'\n",
        "\n",
        "Na vstupu dostanu uzivatelske jmeno a heslo a na výstupu dostanu, zdali mi byl přístup povolen/odepřen.\n",
        "\n",
        "uz.jmeno1=\"admin\"\n",
        "heslo1=\"tajne123\"\n",
        "\n",
        "uz.jmeno2=\"host\"\n",
        "heslo2=\"host123\""
      ],
      "metadata": {
        "id": "KO9Hr1eeH-yR"
      }
    },
    {
      "cell_type": "code",
      "source": [
        "uzivatelske_jmeno = input(\"Zadejte uživatelské jméno: \")\n",
        "heslo = input(\"Zadejte heslo: \")\n",
        "\n",
        "if (uzivatelske_jmeno == \"admin\" and heslo == \"tajne123\") or (uzivatelske_jmeno == \"host\" and heslo == \"host123\"):\n",
        "    print(\"Přístup povolen.\")\n",
        "else:\n",
        "    print(\"Přístup odepřen.\")\n"
      ],
      "metadata": {
        "colab": {
          "base_uri": "https://localhost:8080/"
        },
        "id": "my_uSd4FI82B",
        "outputId": "88c243fb-24ed-4f37-b13f-81875d568055"
      },
      "execution_count": null,
      "outputs": [
        {
          "output_type": "stream",
          "name": "stdout",
          "text": [
            "Zadejte uživatelské jméno: admin\n",
            "Zadejte heslo: host123\n",
            "Přístup odepřen.\n"
          ]
        }
      ]
    },
    {
      "cell_type": "markdown",
      "source": [
        "### Př. 5 Vstup do kina na horor\n",
        "vstupy: věk, doprovod (ano/ne)\n",
        "\n",
        "---\n",
        "\n",
        "\n",
        "výstup - pokud je návštěvníkovi 18+,\n",
        "nebo pokud je návštěvníkovi 15+ a má doprovod, pak je vstup povolen, jinak ne."
      ],
      "metadata": {
        "id": "63JaZHG3KUp5"
      }
    },
    {
      "cell_type": "code",
      "source": [
        "pomocny_pocet=0\n",
        "while pomocny_pocet<3:\n",
        "  pomocny_pocet=pomocny_pocet+1\n",
        "  vek=int(input(\"Zadejte věk: \"))\n",
        "  if vek<18:\n",
        "    doprovod=input(\"Máte doprovod? Odpovězte ano/ne \")\n",
        "\n",
        "  if vek>=18 or (vek>=15 and doprovod==\"ano\"):\n",
        "    print(\"Přístup povolen.\")\n",
        "  else:\n",
        "    print(\"Přístup odepřen.\")"
      ],
      "metadata": {
        "colab": {
          "base_uri": "https://localhost:8080/"
        },
        "id": "dbXJj-S0Kbh7",
        "outputId": "5f31fec5-301e-4cd2-8ed1-e6b3e2faf366"
      },
      "execution_count": null,
      "outputs": [
        {
          "output_type": "stream",
          "name": "stdout",
          "text": [
            "Zadejte věk: 22\n",
            "Přístup povolen.\n",
            "Zadejte věk: 17\n",
            "Máte doprovod? Odpovězte ano/ne ano\n",
            "Přístup povolen.\n",
            "Zadejte věk: 1\n",
            "Máte doprovod? Odpovězte ano/ne ne\n",
            "Přístup odepřen.\n"
          ]
        }
      ]
    },
    {
      "cell_type": "code",
      "source": [
        "vek=int(input(\"Zadejte věk: \"))\n",
        "if vek >= 18:\n",
        "    print(\"Vstup povolen.\")\n",
        "else:\n",
        "    doprovod = input(\"Máte doprovod? (ano/ne): \")\n",
        "    if vek >= 15 and doprovod == \"ano\":\n",
        "        print(\"Vstup povolen.\")\n",
        "    else:\n",
        "        print(\"Vstup zamítnut.\")"
      ],
      "metadata": {
        "colab": {
          "base_uri": "https://localhost:8080/"
        },
        "id": "IAjTcKT5gc7o",
        "outputId": "d8b4b710-619f-4fc8-acf3-cf308dd57590"
      },
      "execution_count": null,
      "outputs": [
        {
          "output_type": "stream",
          "name": "stdout",
          "text": [
            "Zadejte věk: 15\n",
            "Máte doprovod? (ano/ne): ne\n",
            "Vstup zamítnut.\n"
          ]
        }
      ]
    },
    {
      "cell_type": "markdown",
      "source": [
        "### Př. 6 výpis sudých lichých prvků\n",
        "\n",
        "Na vstupu máme list = [\"pes\", \"kočka\", \"pták\", \"králík\", \"had\"]\n",
        "\n",
        "výstup: Pes, pták, had"
      ],
      "metadata": {
        "id": "1eGcKPPencF7"
      }
    },
    {
      "cell_type": "code",
      "source": [
        "slova = [\"pes\", \"kočka\", \"pták\", \"králík\", \"had\"]\n",
        "\n",
        "print([slovo for index, slovo in enumerate(slova) if index%2==0])"
      ],
      "metadata": {
        "colab": {
          "base_uri": "https://localhost:8080/"
        },
        "id": "5u8yvIvUhgZ6",
        "outputId": "c326ee3c-d6bc-4435-bfd4-3ac2dc4808bf"
      },
      "execution_count": 3,
      "outputs": [
        {
          "output_type": "stream",
          "name": "stdout",
          "text": [
            "['pes', 'pták', 'had']\n"
          ]
        }
      ]
    },
    {
      "cell_type": "markdown",
      "source": [
        "### Př. 7 sudá čísla\n",
        "\n",
        "vypište seznam sudých čísel od jedné do 101  za pomocí kódu (ideálně by to mělo jít na 3 řádky)"
      ],
      "metadata": {
        "id": "X4hNTJuLsLbZ"
      }
    },
    {
      "cell_type": "code",
      "source": [
        "numbers = list(range(1, 21))\n",
        "even_numbers = [x for x in numbers if x % 2 == 0]\n",
        "print(f\"Sudá čísla: {even_numbers}\")"
      ],
      "metadata": {
        "id": "kjvqWUV6yHdE"
      },
      "execution_count": null,
      "outputs": []
    },
    {
      "cell_type": "markdown",
      "source": [
        "### Př. 8 výpis ovoce pomocí for cyklu"
      ],
      "metadata": {
        "id": "xSbxF7-MnVpH"
      }
    },
    {
      "cell_type": "code",
      "source": [
        "ovoce = [\"jablko\", \"banán\", \"pomeranč\", \"hruška\"]\n",
        "\n",
        "for druh in ovoce:\n",
        "    print(f\"Mám rád {druh}.\")"
      ],
      "metadata": {
        "colab": {
          "base_uri": "https://localhost:8080/"
        },
        "id": "-ToiklEjhZzo",
        "outputId": "8ba194cf-ec5a-4f64-8cc0-a2413c8dff26"
      },
      "execution_count": null,
      "outputs": [
        {
          "output_type": "stream",
          "name": "stdout",
          "text": [
            "Mám rád jablko.\n",
            "Mám rád banán.\n",
            "Mám rád pomeranč.\n",
            "Mám rád hruška.\n"
          ]
        }
      ]
    },
    {
      "cell_type": "markdown",
      "source": [
        "### Př. 9 výpis ovoce\n",
        "hledám specifické ovoce v seznamu"
      ],
      "metadata": {
        "id": "UpqPshehoK_g"
      }
    },
    {
      "cell_type": "code",
      "source": [
        "hledane = \"banán\"\n",
        "ovoce = [\"jablko\", \"banán\", \"pomeranč\", \"hruška\"]\n",
        "\n",
        "for druh in ovoce:\n",
        "    if druh == hledane:\n",
        "        print(f\"Našel jsem: {hledane}\")\n",
        "        break"
      ],
      "metadata": {
        "id": "C-YoEBsynUkT"
      },
      "execution_count": null,
      "outputs": []
    },
    {
      "cell_type": "markdown",
      "source": [
        "### Př. 10 součet čísel"
      ],
      "metadata": {
        "id": "Kd-Qmq_oqg3Y"
      }
    },
    {
      "cell_type": "code",
      "source": [
        "cisla = [1, 2, 3, 4, 5]\n",
        "soucet = 0\n",
        "\n",
        "for cislo in cisla:\n",
        "    soucet += cislo # ekvivalentně soucet=soucet+cislo\n",
        "\n",
        "print(f\"Součet čísel je: {soucet}\")"
      ],
      "metadata": {
        "id": "KroJvxhdqflR"
      },
      "execution_count": null,
      "outputs": []
    },
    {
      "cell_type": "markdown",
      "source": [
        "### Př. 10 procházení textem"
      ],
      "metadata": {
        "id": "k3TcgxFQ0_Sq"
      }
    },
    {
      "cell_type": "code",
      "source": [
        "text = \"Python\"\n",
        "\n",
        "for znak in text:\n",
        "    print(f\"Písmeno: {znak}\")"
      ],
      "metadata": {
        "colab": {
          "base_uri": "https://localhost:8080/"
        },
        "id": "CuOHGMK10-If",
        "outputId": "d9038de8-a1f0-43bf-e4a0-029753fc40fd"
      },
      "execution_count": null,
      "outputs": [
        {
          "output_type": "stream",
          "name": "stdout",
          "text": [
            "Písmeno: P\n",
            "Písmeno: y\n",
            "Písmeno: t\n",
            "Písmeno: h\n",
            "Písmeno: o\n",
            "Písmeno: n\n"
          ]
        }
      ]
    },
    {
      "cell_type": "markdown",
      "source": [
        "### Př. 11 Dělitelná třemi\n",
        "kombinace podmínek if a for"
      ],
      "metadata": {
        "id": "ay-QE3ra1MHS"
      }
    },
    {
      "cell_type": "code",
      "source": [
        "čísla = [3, 7, 9, 12, 15, 20]\n",
        "\n",
        "for číslo in čísla:\n",
        "    if číslo % 3 == 0:\n",
        "        print(f\"Číslo {číslo} je dělitelné třemi.\")"
      ],
      "metadata": {
        "id": "4Qg3ZtK_1Hrh"
      },
      "execution_count": null,
      "outputs": []
    },
    {
      "cell_type": "markdown",
      "source": [
        "### Př. 12 čísla dělitelná třemi, nebo pěti\n",
        "vstup: range(1, 21)\n",
        "\n",
        "---\n",
        "výstup: vytisknutí čísel např.\n",
        "\n",
        "\"číslo 3 je dělitelné třemi\"\n",
        "\"číslo 5 je dělitelné pěti\"\n",
        "\"číslo 15 je dělitelné třemi nebo pěti\"\n"
      ],
      "metadata": {
        "id": "8muPr0nn3SDD"
      }
    },
    {
      "cell_type": "code",
      "source": [
        "for i in range(1,21):\n",
        "  if i%15==0:\n",
        "    print(f\"číslo {i} je dělitelné třemi nebo pěti\")\n",
        "  elif i%3==0:\n",
        "    print(f\"číslo {i} je dělitelné třemi\")\n",
        "  elif i%5==0:\n",
        "    print(f\"číslo {i} je dělitelné pěti\")\n",
        "  else:\n",
        "    print(f\"číslo {i} není dělitelné třemi ani pěti ani patnácti\")"
      ],
      "metadata": {
        "id": "Meff9zXkjTF_"
      },
      "execution_count": null,
      "outputs": []
    },
    {
      "cell_type": "markdown",
      "source": [
        "### Př. 13 počet samohlásek\n",
        "vstup: text daný uživatelem\n",
        "---\n",
        "výstup: počet samohlásek\n",
        "\n"
      ],
      "metadata": {
        "id": "e9IfPGuA26Iq"
      }
    },
    {
      "cell_type": "code",
      "source": [],
      "metadata": {
        "id": "w5h_EHcl58XB"
      },
      "execution_count": null,
      "outputs": []
    },
    {
      "cell_type": "markdown",
      "source": [
        "### Př. 14 while cyklus\n",
        "\n",
        "dokud není splněna podmínka, cyklus běží"
      ],
      "metadata": {
        "id": "XBScj5Tt6lro"
      }
    },
    {
      "cell_type": "code",
      "source": [
        "i = 0\n",
        "while i <= 5:\n",
        "  print(i)\n",
        "  i += 1"
      ],
      "metadata": {
        "colab": {
          "base_uri": "https://localhost:8080/"
        },
        "id": "hot_zG_g7S8x",
        "outputId": "07c0aae7-c776-49bd-d1f2-bc6d35d01989"
      },
      "execution_count": null,
      "outputs": [
        {
          "output_type": "stream",
          "name": "stdout",
          "text": [
            "0\n",
            "1\n",
            "2\n",
            "3\n",
            "4\n",
            "5\n"
          ]
        }
      ]
    },
    {
      "cell_type": "markdown",
      "source": [
        "### Př. 15 while cyklus\n",
        "\n",
        "podmínka není splněna, cyklus běží do nekonečna"
      ],
      "metadata": {
        "id": "OM9GkXlH3h-M"
      }
    },
    {
      "cell_type": "code",
      "source": [
        "i = 0\n",
        "z = 0\n",
        "while z <= 5:\n",
        "  print(i)\n",
        "  i += 1"
      ],
      "metadata": {
        "id": "HW0mrBRo3op0"
      },
      "execution_count": null,
      "outputs": []
    },
    {
      "cell_type": "markdown",
      "source": [
        "### Př. 16 čísla dělitelná třemi\n",
        "podmínka není splněna, cyklus běží do nekonečna"
      ],
      "metadata": {
        "id": "_GvS7mZZ5Mmu"
      }
    },
    {
      "cell_type": "code",
      "source": [
        "start = 1\n",
        "konec=500\n",
        "while start <= konec:\n",
        "    if start % 3 == 0:\n",
        "        print(f\"{start} je dělitelné třemi.\")\n",
        "    start += 1\n"
      ],
      "metadata": {
        "id": "cL_gppQk45yl"
      },
      "execution_count": null,
      "outputs": []
    },
    {
      "cell_type": "markdown",
      "source": [
        "### Př. 17 DÚ součet čísel od 1 do 50 pomocí\n",
        "a) while cyklu\n",
        "\n",
        "b) for cyklu"
      ],
      "metadata": {
        "id": "Bv1F4XSn6N2B"
      }
    },
    {
      "cell_type": "code",
      "source": [
        "\n"
      ],
      "metadata": {
        "id": "gVtA7gV36b3w"
      },
      "execution_count": null,
      "outputs": []
    },
    {
      "cell_type": "markdown",
      "source": [
        "##List comprehensions"
      ],
      "metadata": {
        "id": "ihhCXU-fJ7Sy"
      }
    },
    {
      "cell_type": "markdown",
      "source": [
        "### Př. 18 List sudých čísel z range(1,11)"
      ],
      "metadata": {
        "id": "qm_gdo0AKvn5"
      }
    },
    {
      "cell_type": "code",
      "source": [
        "seznam=[]\n",
        "for x in range(1, 11): #pomocí for cyklu\n",
        "  if x % 2 == 0:\n",
        "    seznam.append(x)\n",
        "print(seznam)"
      ],
      "metadata": {
        "colab": {
          "base_uri": "https://localhost:8080/"
        },
        "id": "FURzXvQSLAUJ",
        "outputId": "907437da-db9b-4b68-9f4b-4cb1c6ea460b"
      },
      "execution_count": null,
      "outputs": [
        {
          "output_type": "stream",
          "name": "stdout",
          "text": [
            "[2, 4, 6, 8, 10]\n"
          ]
        }
      ]
    },
    {
      "cell_type": "code",
      "source": [
        "sudá_čísla = [x for x in range(1, 11) if x % 2 == 0] #pomocí komprehenze\n",
        "print(sudá_čísla)"
      ],
      "metadata": {
        "colab": {
          "base_uri": "https://localhost:8080/"
        },
        "id": "F-5L8b9cK9La",
        "outputId": "a8af4698-9e13-4922-c87d-53e38c28abd2"
      },
      "execution_count": null,
      "outputs": [
        {
          "output_type": "stream",
          "name": "stdout",
          "text": [
            "[2, 4, 6, 8, 10]\n"
          ]
        }
      ]
    },
    {
      "cell_type": "markdown",
      "source": [
        "### Př. 19 Převedení jmen na velká písmena"
      ],
      "metadata": {
        "id": "UV3eOepjL9sl"
      }
    },
    {
      "cell_type": "code",
      "source": [
        "dir([])"
      ],
      "metadata": {
        "id": "r-LMUWvdrXV8"
      },
      "execution_count": null,
      "outputs": []
    },
    {
      "cell_type": "code",
      "source": [
        "jména = [\"Jan\", \"Petr\", \"Eva\", \"Anna\"]\n",
        "jména_velka = [jmeno.upper() for jmeno in jména]\n",
        "print(jména_velka)"
      ],
      "metadata": {
        "colab": {
          "base_uri": "https://localhost:8080/"
        },
        "id": "E7bvHJeyL4v_",
        "outputId": "8ad5f83e-06f0-4c32-f36e-09e5c84f09a0"
      },
      "execution_count": null,
      "outputs": [
        {
          "output_type": "stream",
          "name": "stdout",
          "text": [
            "['JAN', 'PETR', 'EVA', 'ANNA']\n"
          ]
        }
      ]
    },
    {
      "cell_type": "markdown",
      "source": [
        "### Př. 20 Vnořená komprehenze"
      ],
      "metadata": {
        "id": "TmAI0wIXMr4d"
      }
    },
    {
      "cell_type": "code",
      "source": [
        "for x in range(1,3):\n",
        "  for y in range(1,9):\n",
        "    print(x*y)"
      ],
      "metadata": {
        "id": "nWcjrK9Rso0X"
      },
      "execution_count": null,
      "outputs": []
    },
    {
      "cell_type": "code",
      "source": [
        "násobilka = [[x * y for y in range(1, 9)] for x in range(1, 3)]\n",
        "print(násobilka)"
      ],
      "metadata": {
        "colab": {
          "base_uri": "https://localhost:8080/"
        },
        "id": "P9bM0vriMo70",
        "outputId": "acece0cd-abb0-4845-d078-9100d7d014b9"
      },
      "execution_count": null,
      "outputs": [
        {
          "output_type": "stream",
          "name": "stdout",
          "text": [
            "[[1, 2, 3, 4, 5, 6, 7, 8], [2, 4, 6, 8, 10, 12, 14, 16]]\n"
          ]
        }
      ]
    },
    {
      "cell_type": "markdown",
      "source": [
        "### Př. 21 kombinace seznamů"
      ],
      "metadata": {
        "id": "7B7a3qJpNAy-"
      }
    },
    {
      "cell_type": "code",
      "source": [
        "a = [1, 2, 3]\n",
        "b = [4, 5, 6]\n",
        "kombinace = [(x, y) for x in a for y in b]\n",
        "print(kombinace)  # Výstup: [(1, 4), (1, 5), ..., (3, 6)]"
      ],
      "metadata": {
        "colab": {
          "base_uri": "https://localhost:8080/"
        },
        "id": "CcAyswY2M_nR",
        "outputId": "5b25e80f-1767-4f44-c331-73882c982072"
      },
      "execution_count": null,
      "outputs": [
        {
          "output_type": "stream",
          "name": "stdout",
          "text": [
            "[(1, 4), (1, 5), (1, 6), (2, 4), (2, 5), (2, 6), (3, 4), (3, 5), (3, 6)]\n"
          ]
        }
      ]
    },
    {
      "cell_type": "markdown",
      "source": [
        "### Př. 22 DÚ\n",
        "\n",
        "Vypiš seznam zvířat s více než třemi znaky\n",
        "\n",
        "slova = [\"pes\", \"kočka\", \"lev\", \"tygr\", \"havran\", \"čáp\"]\n",
        "\n",
        "*nápověda - použij funkci len()"
      ],
      "metadata": {
        "id": "Ct4LuMwbNNQw"
      }
    },
    {
      "cell_type": "code",
      "source": [
        "slova = [\"pes\", \"kočka\", \"lev\", \"tygr\", \"havran\", \"čáp\"]\n",
        "zvirata=[x for x in slova if len(x)>3]\n",
        "print(zvirata)"
      ],
      "metadata": {
        "colab": {
          "base_uri": "https://localhost:8080/"
        },
        "id": "sJm6tXzzNn5O",
        "outputId": "fcc44c0e-a603-4712-b1af-bacbdf271109"
      },
      "execution_count": null,
      "outputs": [
        {
          "output_type": "stream",
          "name": "stdout",
          "text": [
            "['kočka', 'tygr', 'havran']\n"
          ]
        }
      ]
    },
    {
      "cell_type": "code",
      "source": [
        "slova = [\"pes\", \"kocka\", \"lev\", \"tygr\", \"havran\", \"cap\"]\n",
        "\n",
        "delsi_nez_5 = [zvire for zvire in slova if len(zvire) > 3]\n",
        "print(delsi_nez_5)"
      ],
      "metadata": {
        "colab": {
          "base_uri": "https://localhost:8080/"
        },
        "id": "k1wZiFA6v_bD",
        "outputId": "def55d4d-fb7b-4028-eeef-0475cf725b79"
      },
      "execution_count": null,
      "outputs": [
        {
          "output_type": "stream",
          "name": "stdout",
          "text": [
            "['kocka', 'tygr', 'havran']\n"
          ]
        }
      ]
    },
    {
      "cell_type": "markdown",
      "source": [
        "##Funkce args, kwargs\n",
        "\n",
        "*args - slouží pro načítání libovolného množství argumentů\n",
        "\n",
        "**kwargs - slouží pro načítání libovolného množství typu dictionary\n",
        "\n",
        "V kódu není třeba držet názvy\n",
        "lze nazvat třeba *pokus,\n",
        "\n",
        "**pokus2\n",
        "\n"
      ],
      "metadata": {
        "id": "fl-LJgVA9SMx"
      }
    },
    {
      "cell_type": "markdown",
      "source": [
        "### Př. 23 součet čísel"
      ],
      "metadata": {
        "id": "oENyRFFH9Zmx"
      }
    },
    {
      "cell_type": "code",
      "source": [
        "def ahoj_svete():\n",
        "  print(\"ahoj světe!!\")"
      ],
      "metadata": {
        "id": "RB_0E57AwdUd"
      },
      "execution_count": null,
      "outputs": []
    },
    {
      "cell_type": "code",
      "source": [
        "ahoj_svete()"
      ],
      "metadata": {
        "colab": {
          "base_uri": "https://localhost:8080/"
        },
        "id": "k0qAOBIYwi0W",
        "outputId": "6a958b4c-d8a2-46d7-8596-f3321a4b381e"
      },
      "execution_count": null,
      "outputs": [
        {
          "output_type": "stream",
          "name": "stdout",
          "text": [
            "ahoj světe!!\n"
          ]
        }
      ]
    },
    {
      "cell_type": "code",
      "source": [
        "def soucet(a, b):\n",
        "    return a + b"
      ],
      "metadata": {
        "id": "pePABhrAw8kc"
      },
      "execution_count": null,
      "outputs": []
    },
    {
      "cell_type": "code",
      "source": [
        "print(soucet(3,2))"
      ],
      "metadata": {
        "colab": {
          "base_uri": "https://localhost:8080/",
          "height": 141
        },
        "collapsed": true,
        "id": "Jazg3CVcw_rx",
        "outputId": "a1b6a8f8-c62e-4ffe-d70e-a5b988745128"
      },
      "execution_count": null,
      "outputs": [
        {
          "output_type": "error",
          "ename": "TypeError",
          "evalue": "soucet() takes 2 positional arguments but 3 were given",
          "traceback": [
            "\u001b[0;31m---------------------------------------------------------------------------\u001b[0m",
            "\u001b[0;31mTypeError\u001b[0m                                 Traceback (most recent call last)",
            "\u001b[0;32m<ipython-input-53-67233aa044e8>\u001b[0m in \u001b[0;36m<cell line: 1>\u001b[0;34m()\u001b[0m\n\u001b[0;32m----> 1\u001b[0;31m \u001b[0mprint\u001b[0m\u001b[0;34m(\u001b[0m\u001b[0msoucet\u001b[0m\u001b[0;34m(\u001b[0m\u001b[0;36m3\u001b[0m\u001b[0;34m,\u001b[0m\u001b[0;36m2\u001b[0m\u001b[0;34m,\u001b[0m\u001b[0;36m2\u001b[0m\u001b[0;34m)\u001b[0m\u001b[0;34m)\u001b[0m\u001b[0;34m\u001b[0m\u001b[0;34m\u001b[0m\u001b[0m\n\u001b[0m",
            "\u001b[0;31mTypeError\u001b[0m: soucet() takes 2 positional arguments but 3 were given"
          ]
        }
      ]
    },
    {
      "cell_type": "markdown",
      "source": [
        "### vizitka\n",
        "\n",
        "obsahuje: jméno, příjmení, pohlaví"
      ],
      "metadata": {
        "id": "L7EdEkwOxYDw"
      }
    },
    {
      "cell_type": "code",
      "source": [
        "def vizitka(jmeno, prijmeni, pohlavi=\"Neuvedeno\"):\n",
        "    print(f\"Jméno: {jmeno}!!\")\n",
        "    print(f\"Příjmení: {prijmeni}?\")\n",
        "    print(f\"Pohlaví: {pohlavi}*?!\")\n",
        "    ahoj_svete()"
      ],
      "metadata": {
        "id": "qZ1cDZM1xURz"
      },
      "execution_count": null,
      "outputs": []
    },
    {
      "cell_type": "code",
      "source": [
        "#vizitka(\"Garegin\", \"Minasjan\", \"muž\")\n",
        "vizitka(\"Petr\", \"Pavel\")"
      ],
      "metadata": {
        "colab": {
          "base_uri": "https://localhost:8080/"
        },
        "id": "kDM7KHBPxkL2",
        "outputId": "5eac6491-ebae-4bc9-d11e-abdc2f1d89fd"
      },
      "execution_count": null,
      "outputs": [
        {
          "output_type": "stream",
          "name": "stdout",
          "text": [
            "Jméno: Petr!!\n",
            "Příjmení: Pavel?\n",
            "Pohlaví: Neuvedeno*?!\n",
            "ahoj světe!!\n"
          ]
        }
      ]
    },
    {
      "cell_type": "markdown",
      "source": [
        "rekurze - faktoriál\n",
        "5!=5.4.3.2.1"
      ],
      "metadata": {
        "id": "uMc8P8t7yaxB"
      }
    },
    {
      "cell_type": "code",
      "source": [
        "def faktorial(n):\n",
        "  def rekurze(n):\n",
        "    if n==1:\n",
        "      return 1\n",
        "    else:\n",
        "      return n*rekurze(n-1)\n",
        "  return rekurze(n)"
      ],
      "metadata": {
        "id": "L08IfwfTyjEv"
      },
      "execution_count": null,
      "outputs": []
    },
    {
      "cell_type": "code",
      "source": [
        "faktorial(6)"
      ],
      "metadata": {
        "colab": {
          "base_uri": "https://localhost:8080/"
        },
        "id": "pxVQNbqkypeZ",
        "outputId": "dd48d501-b5e3-40fc-dad4-a2431ec24ef6"
      },
      "execution_count": null,
      "outputs": [
        {
          "output_type": "execute_result",
          "data": {
            "text/plain": [
              "720"
            ]
          },
          "metadata": {},
          "execution_count": 70
        }
      ]
    },
    {
      "cell_type": "code",
      "source": [
        "def soucet(*promenne):\n",
        "    print(type(promenne))\n",
        "    return sum(promenne)\n",
        "\n",
        "print(soucet(1, 2, 3, 4,5,6,7,8,9,10,11))\n",
        "print(soucet(10, -20, 30,-40))"
      ],
      "metadata": {
        "colab": {
          "base_uri": "https://localhost:8080/"
        },
        "id": "4p_2owyn9FVm",
        "outputId": "26d6a521-e2cb-48c8-db4d-33760cec72aa"
      },
      "execution_count": null,
      "outputs": [
        {
          "output_type": "stream",
          "name": "stdout",
          "text": [
            "<class 'tuple'>\n",
            "66\n",
            "<class 'tuple'>\n",
            "-20\n"
          ]
        }
      ]
    },
    {
      "cell_type": "markdown",
      "source": [
        "### Př. 24 operace kalkulačky"
      ],
      "metadata": {
        "id": "4TqaOo_VEuaN"
      }
    },
    {
      "cell_type": "code",
      "source": [
        "def scitani(*hodnoty):\n",
        "    return sum(hodnoty)\n",
        "\n",
        "def odcitani(*args):\n",
        "    if not args:\n",
        "        return \"Nebyla zadána žádná čísla.\"\n",
        "    vysledek = args[0]\n",
        "    for cislo in args[1:]:\n",
        "        vysledek -= cislo\n",
        "    return vysledek\n",
        "\n",
        "def kalkulacka(operace, *args):\n",
        "    return operace(*args)\n",
        "\n",
        "print(kalkulacka(scitani, 10, 5))\n",
        "print(kalkulacka(odcitani, 10, 5))\n"
      ],
      "metadata": {
        "id": "EuGbeKdPAWpi"
      },
      "execution_count": null,
      "outputs": []
    },
    {
      "cell_type": "markdown",
      "source": [
        "### Př. 25 **kwargs - jméno a příjmení"
      ],
      "metadata": {
        "id": "JfMUGh2gH3tz"
      }
    },
    {
      "cell_type": "code",
      "source": [
        "def print_named_arguments(**kwargs):\n",
        "\n",
        "  print(kwargs, type(kwargs))\n",
        "\n",
        "  for key, value in kwargs.items():\n",
        "    print(key,\":\", value)\n",
        "\n",
        "print_named_arguments(Jmeno=\"Garegin\", Prijmeni=\"Minasjan\")"
      ],
      "metadata": {
        "colab": {
          "base_uri": "https://localhost:8080/"
        },
        "id": "C2WYo4cVGLet",
        "outputId": "2c36e8ea-a8f4-4382-bb3c-2835b262eaef"
      },
      "execution_count": null,
      "outputs": [
        {
          "output_type": "stream",
          "name": "stdout",
          "text": [
            "{'Jmeno': 'Garegin', 'Prijmeni': 'Minasjan'} <class 'dict'>\n",
            "Jmeno : Garegin\n",
            "Prijmeni : Minasjan\n"
          ]
        }
      ]
    },
    {
      "cell_type": "markdown",
      "source": [
        "### Př. 26 **kwargs - jméno a příjmení a koníčky"
      ],
      "metadata": {
        "id": "uerF_3DnILdk"
      }
    },
    {
      "cell_type": "code",
      "source": [
        "def vypis_jmeno_a_hobby(*args, **kwargs):\n",
        "    jmeno = kwargs.get(\"jmeno\", \"Neznámé\")\n",
        "    prijmeni = kwargs.get(\"prijmeni\", \"Neznámé\")\n",
        "    print(f\"Jméno: {jmeno}, Příjmení: {prijmeni}\")\n",
        "    if args:\n",
        "        print(\"Koníčky:\")\n",
        "        for hobby in args:\n",
        "            print(f\"- {hobby}\")\n",
        "\n",
        "vypis_jmeno_a_hobby(\"fotbal\", \"cestování\", jmeno=\"Anna\", prijmeni=\"Dvořáková\")\n"
      ],
      "metadata": {
        "colab": {
          "base_uri": "https://localhost:8080/"
        },
        "id": "eKhPeyp-HDJx",
        "outputId": "1de4885e-8e58-4417-87bd-e4c981ec11c5"
      },
      "execution_count": null,
      "outputs": [
        {
          "output_type": "stream",
          "name": "stdout",
          "text": [
            "Jméno: Anna, Příjmení: Neznámé\n",
            "Koníčky:\n",
            "- fotbal\n",
            "- cestování\n"
          ]
        }
      ]
    },
    {
      "cell_type": "markdown",
      "source": [
        "### Př. 27 slovník\n",
        "\n",
        "vytvořte slovník s vaším jménem, příjmením, věkem a váhou, pokud něco z toho nebude zadáno, tak píšeme \"XXX\""
      ],
      "metadata": {
        "id": "SF67CBWGJEJT"
      }
    },
    {
      "cell_type": "code",
      "source": [
        "def vypis_jmeno_vek_vaha(*args, **kwargs):\n",
        "    jmeno = kwargs.get(\"jmeno\", \"Neznámé\")\n",
        "    prijmeni = kwargs.get(\"prijmeni\", \"Neznámé\")\n",
        "    vek = kwargs.get(\"vek\", \"XXX\")\n",
        "    vaha = kwargs.get(\"vaha\", \"XXX\")\n",
        "    print(f\"Jméno: {jmeno}, Příjmení: {prijmeni}, Věk: {vek}, Váha: {vaha}\")\n",
        "\n",
        "\n",
        "vypis_jmeno_vek_vaha(jmeno=\"Marie\", prijmeni=\"Habáňová\", vek= \"neuvedeno\", vaha = \"neuvedeno\")"
      ],
      "metadata": {
        "colab": {
          "base_uri": "https://localhost:8080/"
        },
        "id": "WDQRlncFJaCp",
        "outputId": "9ce5f98c-1aeb-49af-8885-7c104dc89a07"
      },
      "execution_count": null,
      "outputs": [
        {
          "output_type": "stream",
          "name": "stdout",
          "text": [
            "Jméno: Marie, Příjmení: Habáňová, Věk: XXX, Váha: XXX\n"
          ]
        }
      ]
    }
  ]
}