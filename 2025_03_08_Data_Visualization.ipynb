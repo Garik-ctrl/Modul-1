{
  "cells": [
    {
      "cell_type": "markdown",
      "metadata": {
        "id": "view-in-github",
        "colab_type": "text"
      },
      "source": [
        "<a href=\"https://colab.research.google.com/github/Garik-ctrl/Modul-1/blob/main/2025_03_08_Data_Visualization.ipynb\" target=\"_parent\"><img src=\"https://colab.research.google.com/assets/colab-badge.svg\" alt=\"Open In Colab\"/></a>"
      ]
    },
    {
      "cell_type": "markdown",
      "id": "uuNhyMcGguDQ",
      "metadata": {
        "id": "uuNhyMcGguDQ"
      },
      "source": [
        "<img src=\"https://drive.google.com/uc?export=view&id=1UO2urRciECzoKE_vHy4RMGfFbkOWOGlW\" alt=\"SDA logo\" align=\"left\" width=\"100px\" hspace=\"10px\" vspace=\"10px\"/>\n",
        "\n",
        "# 1. Matplotlib\n",
        "\n",
        "* knihovna pro vytváření 2D a 3D grafů\n",
        "* rozhraní podobné MATLABu\n",
        "* cca 70 tisíc řádků kódu\n",
        "* modul `pyplot` - vytváření grafů/výkresů\n",
        "* domovská stránka s dokumentací:<br>https://matplotlib.org/index.html"
      ]
    },
    {
      "cell_type": "code",
      "source": [
        "# kouzelná funkce, která vykreslí obrázek do sešitu (notebooku)\n",
        "# (místo zobrazení výpisu objektu obrázku)\n",
        "%matplotlib inline"
      ],
      "metadata": {
        "id": "Qn_uJLoA4A4z"
      },
      "id": "Qn_uJLoA4A4z",
      "execution_count": null,
      "outputs": []
    },
    {
      "cell_type": "code",
      "source": [
        "import pandas as pd\n",
        "import matplotlib.pyplot as plt  # konvenční alias\n",
        "\n",
        "# ekvivalentní zápisu\n",
        "# from matplotlib import pyplot as plt"
      ],
      "metadata": {
        "id": "nkLQr3ep4OLp"
      },
      "id": "nkLQr3ep4OLp",
      "execution_count": null,
      "outputs": []
    },
    {
      "cell_type": "markdown",
      "source": [
        "### První výkres\n",
        "\n",
        "Pro **<font color='##13e5e1'>vyvtvoření grafu</font>**, používáme funkci `plt.subplots()`, která vrací dva objekty:\n",
        "* `fig` - sloužící jako kontejner na grafy\n",
        "* `ax/axes` - představující samotný/é graf/grafy\n",
        "\n",
        "Pro **<font color='##13e5e1'>začlenění vizuálních prvků</font>** do grafu využíváme různé operace s objektem `ax`, např. voláním metod, jako je `.plot()`, můžeme přidávat různé typy vizualizací, např. čárové grafy.\n",
        "\n",
        "Po přidání požadovaných vizualizací můžeme zobrazit výsledný graf pomocí funkce `plt.show()`. Ona **<font color='##13e5e1'>zobrazuje graf</font>** v samostatném okně nebo v rozhraní notebooku."
      ],
      "metadata": {
        "id": "xzoSdvWb4cC8"
      },
      "id": "xzoSdvWb4cC8"
    },
    {
      "cell_type": "code",
      "source": [
        "# vytvoříme plátno (kontejner grafu)\n",
        "fig, ax = plt.subplots()\n",
        "\n",
        "# data pro vizualizaci\n",
        "x = [0, 1, 2, 3]\n",
        "y = [0, 1, 2, 3]\n",
        "\n",
        "# čárový graf\n",
        "ax.plot(x, y)\n",
        "\n",
        "# zobrazení grafu\n",
        "plt.show()"
      ],
      "metadata": {
        "id": "NBPwp2qH4bmM"
      },
      "id": "NBPwp2qH4bmM",
      "execution_count": null,
      "outputs": []
    },
    {
      "cell_type": "markdown",
      "source": [
        "Chcete-li do grafu matplotlib přidat mřížku, můžete použít metodu `.grid()`. Taková mřížka je vizuální prvek, který lze přidat do grafu, aby se zlepšil jeho vzhled a usnadnila interpretace dat. Skládá se z **<font color='##13e5e1'>vodorovných a svislých čar</font>**, které jsou zarovnány s hlavními body na osách X a Y.\n",
        "\n",
        "Ve výchozím nastavení funkce `.grid()` zapíná čáry mřížky světle šedou barvou, ale máte možnost **<font color='##13e5e1'>přizpůsobit mřížku</font>** úpravou jejího vzhledu. Funkce `.grid()` přijímá nepovinné parametry, jako např.\n",
        "* `color`\n",
        "* `linestyle`\n",
        "* `linewidth`\n",
        "* `alpha`\n",
        "\n",
        "pro upravení barvy, stylu čar, tloušťky a průhlednosti čar mřížky."
      ],
      "metadata": {
        "id": "WFfiD7Zmh1-T"
      },
      "id": "WFfiD7Zmh1-T"
    },
    {
      "cell_type": "code",
      "source": [
        "fig, ax = plt.subplots()\n",
        "\n",
        "ax.grid()\n",
        "plt.show()"
      ],
      "metadata": {
        "id": "ggfUzRHOfZsW"
      },
      "id": "ggfUzRHOfZsW",
      "execution_count": null,
      "outputs": []
    },
    {
      "cell_type": "code",
      "source": [
        "fig,ax = plt.subplots()\n",
        "\n",
        "ax.grid(\n",
        "    color='darkgreen',\n",
        "    linestyle='--',\n",
        "    linewidth=2,\n",
        "    alpha=0.5\n",
        ")\n",
        "\n",
        "plt.show()"
      ],
      "metadata": {
        "id": "sH1AuXf5fc70"
      },
      "id": "sH1AuXf5fc70",
      "execution_count": null,
      "outputs": []
    },
    {
      "cell_type": "markdown",
      "source": [
        "Existuje mnoho dalších parametrů. Více najdete na oficiální dokumentaci: https://matplotlib.org/stable/api/_as_gen/matplotlib.pyplot.grid.html\n",
        "\n",
        "Například parametr `axis` v metodě `.grid()` umožňuje řídit, na které ose se vykreslí čáry mřížky:\n",
        "* `axis='x'` pro přidání mřížkových čar pouze podél osy X\n",
        "* `axis='y'` pro přidání mřížek pouze podél osy Y.\n",
        "\n",
        "Chcete-li zahrnout mřížky na obou osách, můžete nastavit `axis='both'`, což je výchozí nastavení."
      ],
      "metadata": {
        "id": "Fp-dkpZslEVd"
      },
      "id": "Fp-dkpZslEVd"
    },
    {
      "cell_type": "code",
      "source": [
        "fig,ax = plt.subplots()\n",
        "\n",
        "ax.grid(\n",
        "    axis='x',\n",
        "    color='green',\n",
        "    linewidth=1.5,\n",
        ")\n",
        "\n",
        "ax.grid(\n",
        "    axis='y',\n",
        "    color='yellow',\n",
        "    linewidth=1.5,\n",
        ")\n",
        "\n",
        "plt.show()"
      ],
      "metadata": {
        "id": "TZbAmRDxlDm4"
      },
      "id": "TZbAmRDxlDm4",
      "execution_count": null,
      "outputs": []
    },
    {
      "cell_type": "markdown",
      "source": [
        "<img src=\"https://drive.google.com/uc?export=view&id=141XOz6N4nk8Ru1sAl7vOsAToCLrSFCAX\" alt=\"SDA logo\" width=\"150\" align='right'/>\n",
        "<br>\n",
        "\n",
        "## Počasí v Seattlu\n",
        "\n",
        "Nejlepším způsobem, jak ukázat užitečnost této knihovny, je použít skutečná data:"
      ],
      "metadata": {
        "id": "6gXwuZJqnkcE"
      },
      "id": "6gXwuZJqnkcE"
    },
    {
      "cell_type": "code",
      "source": [
        "url='https://raw.githubusercontent.com/matzim95/ML-datasets/master/weather.csv'\n",
        "\n",
        "weather=pd.read_csv(\n",
        "    url,\n",
        "    parse_dates=True,\n",
        "    index_col='date'\n",
        ")"
      ],
      "metadata": {
        "id": "WFikw5UafaNA"
      },
      "id": "WFikw5UafaNA",
      "execution_count": null,
      "outputs": []
    },
    {
      "cell_type": "code",
      "source": [
        "weather.head()"
      ],
      "metadata": {
        "id": "9g1cg3gMfcAc"
      },
      "id": "9g1cg3gMfcAc",
      "execution_count": null,
      "outputs": []
    },
    {
      "cell_type": "markdown",
      "source": [
        "### Základní vizualizace časových řad"
      ],
      "metadata": {
        "id": "Ma6gUyuar7Cs"
      },
      "id": "Ma6gUyuar7Cs"
    },
    {
      "cell_type": "code",
      "source": [
        "fig, ax = plt.subplots()\n",
        "\n",
        "# nakresli graf pomocí \"axis\" objektu\n",
        "ax.plot(weather.index, weather['temp_max'])\n",
        "plt.show()"
      ],
      "metadata": {
        "id": "OBj0Z1DZfvHU"
      },
      "id": "OBj0Z1DZfvHU",
      "execution_count": null,
      "outputs": []
    },
    {
      "cell_type": "markdown",
      "source": [
        "### Upravte velikost plátna (kontejneru)\n",
        "Všimněte si, že popisky na grafu nejsou čitelné a výchozí velikost grafu není optimální."
      ],
      "metadata": {
        "id": "JRwrkhKaoief"
      },
      "id": "JRwrkhKaoief"
    },
    {
      "cell_type": "code",
      "source": [
        "fig, ax = plt.subplots(figsize=(12, 4))\n",
        "\n",
        "ax.plot(weather.index, weather['temp_max'])\n",
        "plt.show()"
      ],
      "metadata": {
        "id": "5BVJLykjowWC"
      },
      "id": "5BVJLykjowWC",
      "execution_count": null,
      "outputs": []
    },
    {
      "cell_type": "markdown",
      "source": [
        "### Zobrazení více grafů/vrstev na jedné grafice\n",
        "\n",
        "Co když chcete kreslit **<font color='##13e5e1'>dva nebo více grafů v jednom grafu</font>** v matplotlibu, což umožňuje vizuální porovnání a analýzu více souborů dat nebo funkcí v rámci jednoho obrázku?"
      ],
      "metadata": {
        "id": "v_HC2y4zpEsr"
      },
      "id": "v_HC2y4zpEsr"
    },
    {
      "cell_type": "code",
      "source": [
        "fig, ax=plt.subplots(figsize=(12, 4))\n",
        "\n",
        "ax.plot(weather.index, weather['temp_max'])\n",
        "ax.plot(weather.index, weather['temp_min'])\n",
        "\n",
        "plt.show()"
      ],
      "metadata": {
        "id": "8j5JMV8ZJ7AB"
      },
      "execution_count": null,
      "outputs": [],
      "id": "8j5JMV8ZJ7AB"
    },
    {
      "cell_type": "markdown",
      "source": [
        "### Zadejte legendu\n",
        "\n",
        "Všimněte si, že můžeme pouze **<font color='##13e5e1'>hádat, která barva odpovídá kterému sloupci</font>**. Zde je to snadné, protože data pocházejí z jedné oblasti (tj. Seattlu) a popisují minimální a maximální teplotu. Co kdyby pocházela z různých míst nebo popisovala vlastnosti, které by nebylo tak zřejmé rozlišit na základě grafu?\n",
        "\n",
        "Pokud chcete **<font color='##13e5e1'>přidat do grafu legendu</font>** v matplotlibu, které vám umožní rozlišit a identifikovat různé datové sady nebo prvky grafu ve vizualizaci, postupujte podle následujících kroků:\n",
        "* přiřaďte popisek ke každému grafu\n",
        "* po vykreslení všech potřebných prvků zavolejte funkci `plt.legend()` a zobrazte legendu v grafu.\n",
        "\n",
        "Vzhled legendy můžete v případě potřeby přizpůsobit pomocí volitelných parametrů dostupných ve funkci `plt.legend()`. Tyto parametry umožňují ovládat polohu, zarovnání, velikost písma a další vlastnosti legendy.\n",
        "\n",
        "Zobrazte graf pomocí funkce `plt.show()`."
      ],
      "metadata": {
        "id": "CKa2lONup4Mb"
      },
      "id": "CKa2lONup4Mb"
    },
    {
      "cell_type": "code",
      "source": [
        "fig, ax=plt.subplots(figsize=(12, 4))\n",
        "\n",
        "ax.plot(weather.index, weather['temp_max'], label='max')\n",
        "ax.plot(weather.index, weather['temp_min'], label='min')\n",
        "\n",
        "plt.legend()\n",
        "plt.show()"
      ],
      "metadata": {
        "id": "wAho-igDKb8B"
      },
      "execution_count": null,
      "outputs": [],
      "id": "wAho-igDKb8B"
    },
    {
      "cell_type": "markdown",
      "source": [
        "### Značky a čáry v grafu\n",
        "\n",
        "V níže uvedeném příkladu uvažujme pouze dílčí data pro 20 po sobě jdoucích hodnot teploty. Všimněte si, že k lepší čitelnosti může přispět i rotace značek na ose X."
      ],
      "metadata": {
        "id": "wSxsdRlVKv17"
      },
      "id": "wSxsdRlVKv17"
    },
    {
      "cell_type": "code",
      "source": [
        "n = 20\n",
        "\n",
        "fig, ax = plt.subplots(figsize=(8,5))\n",
        "\n",
        "ax.plot(\n",
        "    weather.index[:n],\n",
        "    weather['temp_max'][:n],\n",
        ")\n",
        "\n",
        "ax.plot(\n",
        "    weather.index[:n],\n",
        "    weather['temp_min'][:n],\n",
        ")\n",
        "\n",
        "plt.xticks(rotation=45)\n",
        "plt.show()"
      ],
      "metadata": {
        "id": "hMpy433lstX1"
      },
      "id": "hMpy433lstX1",
      "execution_count": null,
      "outputs": []
    },
    {
      "cell_type": "markdown",
      "source": [
        "Zatím jsme používali výchozí argumenty, ale to, jak bude vytvořený graf vypadat, můžete výrazně ovlivnit!\n",
        "\n",
        "V matplotlibu se **<font color='##13e5e1'>značky a čáry používají k reprezentaci datových bodů a jejich propojení</font>** v grafu:\n",
        "* **<font color='darkorange'>značky</font>** jsou symboly nebo tvary, které představují jednotlivé datové body na grafu.\n",
        " * mohou být použity ke zvýraznění polohy datových hodnot.\n",
        " * existuje celá řada možností značek, například tečky, čtverce, trojúhelníky a další.\n",
        " * možnosti přizpůsobení značek zahrnují size, color, edge color, a transparency\n",
        "* **<font color='darkorange'>čáry</font>** slouží ke spojení datových bodů v grafu a vytvářejí spojité čáry nebo křivky - pomáhají vizualizovat trendy a vztahy mezi datovými body.\n",
        " * běžné styly čar zahrnují plné čáry, přerušované čáry, tečkované čáry a další.\n",
        " * můžete přizpůsobit barvy, šířky a průhlednost čar pomocí parametrů, jako je color, linewidth, a alpha"
      ],
      "metadata": {
        "id": "5vcSDbrgtYaC"
      },
      "id": "5vcSDbrgtYaC"
    },
    {
      "cell_type": "code",
      "source": [
        "n = 20\n",
        "\n",
        "fig, ax = plt.subplots(figsize=(8, 5))\n",
        "\n",
        "ax.plot(\n",
        "    weather.index[:n],\n",
        "    weather['temp_max'][:n],\n",
        "    marker='o',\n",
        "    linestyle='--',\n",
        "    color='r'\n",
        ")\n",
        "\n",
        "ax.plot(\n",
        "    weather.index[:n],\n",
        "    weather['temp_min'][:n],\n",
        "    marker='v',\n",
        "    linestyle='None',\n",
        "    color='b'\n",
        ")\n",
        "\n",
        "plt.xticks(rotation=45)\n",
        "plt.show()"
      ],
      "metadata": {
        "id": "K0TpP9VeKxtQ"
      },
      "execution_count": null,
      "outputs": [],
      "id": "K0TpP9VeKxtQ"
    },
    {
      "cell_type": "markdown",
      "source": [
        "### **<font color='#306998'>ÚKOL </font><font color='#ffd33b'>PRO VÁS</font>**\n",
        "\n",
        "Vytvořte graf:\n",
        "* vyberte posledních 30 pozorování z kolekce `weather`.\n",
        "* nastavte velikost grafu\n",
        "* vytvořte čárový graf pro proměnné `wind` a `precipitation`.\n",
        "* změňte typ značky, barvu a typ čáry\n",
        "* přidejte legendu s popisem čáry\n",
        "\n",
        "<img src=\"https://drive.google.com/uc?export=view&id=1O6FIgYMRe843hNtFk4sq3aO8H-a51_yZ\" alt=\"Matplotlib: úkol pro vás\" title=\"Matplotlib: task for you\" align=\"center\" width=\"500px\" hspace=\"30px\" vspace=\"10px\"/>"
      ],
      "metadata": {
        "id": "oPF_nJ3vL3z7"
      },
      "id": "oPF_nJ3vL3z7"
    },
    {
      "cell_type": "markdown",
      "source": [
        "### Nadpis a popisky os\n",
        "\n",
        "Chcete-li přidat **<font color='##13e5e1'>nadpis a popisky na osy X a Y</font>** do grafu v matplotlib, můžete použít následující kroky:\n",
        "* nastavte titulek grafu pomocí funkce `plt.title()`. Této funkci předejte požadovaný název jako stringový argument.\n",
        "* nastavte popisek X pomocí funkce `plt.xlabel()`. Této funkci předejte požadovaný text popisku jako stringový argument. Pro popisek Y použijte funkci `plt.ylabel()`.\n",
        "\n",
        "V případě potřeby můžete vzhled nadpisu a popisku os dále přizpůsobit pomocí dalších volitelných parametrů, které jsou k dispozici v příslušných funkcích. Tyto parametry umožňují upravit velikost písma, styl písma, barvu, zarovnání a další vlastnosti nadpisu a popisků os."
      ],
      "metadata": {
        "id": "etXwMaIhQxT7"
      },
      "id": "etXwMaIhQxT7"
    },
    {
      "cell_type": "code",
      "source": [
        "n=30\n",
        "\n",
        "fig,ax = plt.subplots(figsize=(8, 4))\n",
        "\n",
        "ax.plot(\n",
        "    weather.index[-n:],\n",
        "    weather['temp_max'][-n:],\n",
        "    marker='o',\n",
        "    linestyle='--',\n",
        "    color='r',\n",
        "    label='max'\n",
        ")\n",
        "\n",
        "ax.plot(\n",
        "    weather.index[-n:],\n",
        "    weather['temp_min'][-n:],\n",
        "    marker='v',\n",
        "    linestyle='dotted',\n",
        "    color='b',\n",
        "    label='min'\n",
        ")\n",
        "\n",
        "ax.set_title('Temperature in Seattle - January 2012')  # plt.title()\n",
        "ax.set_xlabel('Date (year/month/day)')  # plt.xlabel()\n",
        "ax.set_ylabel('Temperature [centigrade]')  # plt.ylabel()\n",
        "# ax.xaxis.set_tick_params(rotation=90)  # eq. to ax.xticks()\n",
        "\n",
        "ax.legend(title='Temperature')\n",
        "plt.xticks(rotation=30)\n",
        "plt.show()"
      ],
      "metadata": {
        "id": "GdI8lBO-Qy0j"
      },
      "execution_count": null,
      "outputs": [],
      "id": "GdI8lBO-Qy0j"
    },
    {
      "cell_type": "markdown",
      "source": [
        "### **<font color='#306998'>ÚKOL </font><font color='#ffd33b'>PRO VÁS</font>**\n",
        "\n",
        "Upravte poslední graf:\n",
        "* změňte parametry marker, linestyle a color\n",
        "* změňte natočení značek na ose X\n",
        "* pro osu X, osu Y a nadpis definujte písmo (type, color, size).\n",
        "\n",
        "<img src=\"https://drive.google.com/uc?export=view&id=1OU1Bc3K8A_lqIBvlhLRLqM1Pt_ZLtfd1\" alt=\"Matplotlib: úkol pro vás\" title=\"Matplotlib: task for you\" align=\"center\" width=\"500px\" hspace=\"30px\" vspace=\"10px\"/>\n"
      ],
      "metadata": {
        "id": "Jy0_W7weSMNe"
      },
      "id": "Jy0_W7weSMNe"
    },
    {
      "cell_type": "markdown",
      "source": [
        "<img src=\"https://drive.google.com/uc?export=view&id=141XOz6N4nk8Ru1sAl7vOsAToCLrSFCAX\" alt=\"SDA logo\" width=\"150\" align='right'/>\n",
        "<br>\n",
        "\n",
        "## Počasí v Austinu"
      ],
      "metadata": {
        "id": "6eN6ePAWyPc4"
      },
      "id": "6eN6ePAWyPc4"
    },
    {
      "cell_type": "code",
      "source": [
        "url='https://raw.githubusercontent.com/matzim95/ML-datasets/master/austin_weather.csv'\n",
        "\n",
        "austin_weather = pd.read_csv(url, parse_dates=True, index_col='Date')\n",
        "austin_weather.head()"
      ],
      "metadata": {
        "id": "XSn6WcVKXDjm"
      },
      "execution_count": null,
      "outputs": [],
      "id": "XSn6WcVKXDjm"
    },
    {
      "cell_type": "code",
      "source": [
        "austin_weather.dtypes"
      ],
      "metadata": {
        "id": "j2zTvJX-bPgH"
      },
      "execution_count": null,
      "outputs": [],
      "id": "j2zTvJX-bPgH"
    },
    {
      "cell_type": "code",
      "source": [
        "n = 50\n",
        "fig, ax=plt.subplots(figsize=(10, 5))\n",
        "\n",
        "ax.plot(austin_weather.index[:n], austin_weather['TempAvgF'][:n], color='r')\n",
        "ax.plot(austin_weather.index[:n], austin_weather['TempHighF'][:n], color='r', linestyle='--')\n",
        "ax.plot(austin_weather.index[:n], austin_weather['TempLowF'][:n], color='r', linestyle='dotted')\n",
        "\n",
        "ax.plot(austin_weather.index[:n], austin_weather['DewPointAvgF'][:n].astype(float), color='b')\n",
        "ax.plot(austin_weather.index[:n], austin_weather['DewPointHighF'][:n].astype(float), color='b', linestyle='--')\n",
        "ax.plot(austin_weather.index[:n], austin_weather['DewPointLowF'][:n].astype(float), color='b', linestyle='dotted')\n",
        "\n",
        "plt.xlabel('Date (year-month-day)')\n",
        "plt.ylabel('Temperature/Dew Point')\n",
        "plt.title('Weather in Austin')\n",
        "plt.xticks(rotation=30)\n",
        "plt.show()"
      ],
      "metadata": {
        "id": "hyMMubJwbkD2"
      },
      "execution_count": null,
      "outputs": [],
      "id": "hyMMubJwbkD2"
    },
    {
      "cell_type": "markdown",
      "source": [
        "### Dílčí grafy (Subplots)\n",
        "\n",
        "Dílčí grafy v matplotlibu umožňují **<font color='##13e5e1'>vytvořit více grafů v rámci jednoho obrázku</font>**. Pomocí funkce `plt.subplots()` můžete určit rozložení dílčích grafů, přistupovat ke každému dílčímu grafu zvlášť, vykreslovat data na každém dílčím grafu a přizpůsobovat je. Dílčí grafy jsou užitečné pro porovnávání souborů dat nebo pro zobrazení různých aspektů stejných dat."
      ],
      "metadata": {
        "id": "qI3FK0o7zM__"
      },
      "id": "qI3FK0o7zM__"
    },
    {
      "cell_type": "code",
      "source": [
        "n = 50\n",
        "fig, ax = plt.subplots(2, 1,sharex=True, figsize=(10, 5))\n",
        "\n",
        "ax[0].plot(austin_weather.index[:n], austin_weather['TempAvgF'][:n], color='r')\n",
        "ax[0].plot(austin_weather.index[:n], austin_weather['TempHighF'][:n], color='r', linestyle='--')\n",
        "ax[0].plot(austin_weather.index[:n], austin_weather['TempLowF'][:n], color='r', linestyle='dotted')\n",
        "\n",
        "\n",
        "ax[1].plot(austin_weather.index[:n], austin_weather['DewPointAvgF'][:n].astype(float), color='b')\n",
        "ax[1].plot(austin_weather.index[:n], austin_weather['DewPointHighF'][:n].astype(float), color='b', linestyle='--')\n",
        "ax[1].plot(austin_weather.index[:n], austin_weather['DewPointLowF'][:n].astype(float), color='b', linestyle='dotted')\n",
        "\n",
        "ax[1].set_xlabel('Date (year-month-day)')\n",
        "ax[0].set_ylabel('Temperature')\n",
        "ax[1].set_ylabel('Dew Point')\n",
        "\n",
        "ax[0].set_title('Weather in Austin')\n",
        "ax[1].xaxis.set_tick_params(rotation=45)\n",
        "plt.show()"
      ],
      "metadata": {
        "id": "hH2rf9v3c-C3"
      },
      "execution_count": null,
      "outputs": [],
      "id": "hH2rf9v3c-C3"
    },
    {
      "cell_type": "markdown",
      "source": [
        "### Textové anotace\n",
        "\n",
        "Textové anotace v matplotlib umožňují **<font color='##13e5e1'>přidávat do grafů textové informace</font>**. Pomocí funkce `plt.text()` můžete určit obsah textu a jeho pozici na grafu. Funkce `plt.annotate()` navíc poskytuje další možnosti pro anotování konkrétních datových bodů šipkami a textem. Textové anotace pomáhají poskytnout kontext a vysvětlení v rámci grafů."
      ],
      "metadata": {
        "id": "mS1UGzHL0lJv"
      },
      "id": "mS1UGzHL0lJv"
    },
    {
      "cell_type": "code",
      "source": [
        "n=50\n",
        "fig, ax=plt.subplots(2, 1, sharex=True, figsize=(10, 5))\n",
        "\n",
        "ax[0].plot(austin_weather.index[:n], austin_weather['TempAvgF'][:n], color='r')\n",
        "ax[0].plot(austin_weather.index[:n], austin_weather['TempHighF'][:n], color='r', linestyle='--')\n",
        "ax[0].plot(austin_weather.index[:n], austin_weather['TempLowF'][:n], color='r', linestyle='dotted')\n",
        "\n",
        "\n",
        "ax[1].plot(austin_weather.index[:n], austin_weather['DewPointAvgF'][:n].astype(float), color='b')\n",
        "ax[1].plot(austin_weather.index[:n], austin_weather['DewPointHighF'][:n].astype(float), color='b', linestyle='--')\n",
        "ax[1].plot(austin_weather.index[:n], austin_weather['DewPointLowF'][:n].astype(float), color='b', linestyle='dotted')\n",
        "\n",
        "ax[1].set_xlabel('Date (year-month-day)')\n",
        "ax[0].set_ylabel('Temperature')\n",
        "ax[1].set_ylabel('Dew Point')\n",
        "\n",
        "ax[0].set_title('Weather in Austin')\n",
        "ax[1].xaxis.set_tick_params(rotation=90)\n",
        "\n",
        "ax[0].annotate(\n",
        "    'Něco se stalo',\n",
        "    xy=[pd.Timestamp('2014-01-06'),28],\n",
        "    xytext=(pd.Timestamp('2014-01-09'),22.5),\n",
        "    arrowprops={'arrowstyle':'->','color':'gray'}\n",
        ")\n",
        "\n",
        "plt.show()"
      ],
      "metadata": {
        "id": "A7XadgTgeBBJ"
      },
      "execution_count": null,
      "outputs": [],
      "id": "A7XadgTgeBBJ"
    },
    {
      "cell_type": "markdown",
      "source": [
        "### **<font color='#306998'>ÚKOL </font><font color='#ffd33b'>PRO VÁS</font>**\n",
        "\n",
        "Vytvořte graf založený na souboru dat o počasí pro Austin:\n",
        "* pro čtvrté čtvrtletí roku 2015\n",
        "* zahrňte do grafu teplotu (průměrná, vysoká, nízká), vlhkost (průměrná, vysoká, nízká) a vítr (průměrný, vysoký, nárazový)\n",
        "* přidejte do grafu anotaci, tj. označte, kdy byla ve zkoumaném období nejsilnější větrná bouře\n",
        "\n",
        "<img src=\"https://drive.google.com/uc?export=view&id=1G3uFQGLK2hQ7oZh-1xEmfqgwFRwy5ZSI\" alt=\"Matplotlib: úkol pro vás\" title=\"Matplotlib: task for you\" align=\"center\" width=\"650px\" hspace=\"30px\" vspace=\"10px\"/>"
      ],
      "metadata": {
        "id": "gZB-LlaKga2s"
      },
      "id": "gZB-LlaKga2s"
    },
    {
      "cell_type": "markdown",
      "source": [
        "<img src=\"https://drive.google.com/uc?export=view&id=141XOz6N4nk8Ru1sAl7vOsAToCLrSFCAX\" alt=\"SDA logo\" width=\"150\" align='right'/>\n",
        "<br>\n",
        "\n",
        "## Oxid uhličitý ($CO_2$)"
      ],
      "metadata": {
        "id": "t-VvyJH7441w"
      },
      "id": "t-VvyJH7441w"
    },
    {
      "cell_type": "code",
      "source": [
        "url = 'https://raw.githubusercontent.com/matzim95/ML-datasets/master/co2.csv'\n",
        "\n",
        "co2 = pd.read_csv(url, parse_dates=True, index_col='Date')\n",
        "co2"
      ],
      "metadata": {
        "colab": {
          "base_uri": "https://localhost:8080/",
          "height": 450
        },
        "id": "ckA1H13Snfx9",
        "outputId": "e060798a-a566-490d-8ed8-c1d21d3621a0"
      },
      "execution_count": null,
      "outputs": [
        {
          "output_type": "execute_result",
          "data": {
            "text/plain": [
              "            Decimal Date  Average  Interpolated   Trend  Number of Days\n",
              "Date                                                                   \n",
              "1958-03-01      1958.208   315.71        315.71  314.62              -1\n",
              "1958-04-01      1958.292   317.45        317.45  315.29              -1\n",
              "1958-05-01      1958.375   317.50        317.50  314.71              -1\n",
              "1958-06-01      1958.458   -99.99        317.10  314.85              -1\n",
              "1958-07-01      1958.542   315.86        315.86  314.98              -1\n",
              "...                  ...      ...           ...     ...             ...\n",
              "2018-05-01      2018.375   411.24        411.24  407.91              24\n",
              "2018-06-01      2018.458   410.79        410.79  408.49              29\n",
              "2018-07-01      2018.542   408.71        408.71  408.32              27\n",
              "2018-08-01      2018.625   406.99        406.99  408.90              30\n",
              "2018-09-01      2018.708   405.51        405.51  409.02              29\n",
              "\n",
              "[727 rows x 5 columns]"
            ],
            "text/html": [
              "\n",
              "\n",
              "  <div id=\"df-b5b2ea82-c305-45a7-afdc-88dc1bd5cdc0\">\n",
              "    <div class=\"colab-df-container\">\n",
              "      <div>\n",
              "<style scoped>\n",
              "    .dataframe tbody tr th:only-of-type {\n",
              "        vertical-align: middle;\n",
              "    }\n",
              "\n",
              "    .dataframe tbody tr th {\n",
              "        vertical-align: top;\n",
              "    }\n",
              "\n",
              "    .dataframe thead th {\n",
              "        text-align: right;\n",
              "    }\n",
              "</style>\n",
              "<table border=\"1\" class=\"dataframe\">\n",
              "  <thead>\n",
              "    <tr style=\"text-align: right;\">\n",
              "      <th></th>\n",
              "      <th>Decimal Date</th>\n",
              "      <th>Average</th>\n",
              "      <th>Interpolated</th>\n",
              "      <th>Trend</th>\n",
              "      <th>Number of Days</th>\n",
              "    </tr>\n",
              "    <tr>\n",
              "      <th>Date</th>\n",
              "      <th></th>\n",
              "      <th></th>\n",
              "      <th></th>\n",
              "      <th></th>\n",
              "      <th></th>\n",
              "    </tr>\n",
              "  </thead>\n",
              "  <tbody>\n",
              "    <tr>\n",
              "      <th>1958-03-01</th>\n",
              "      <td>1958.208</td>\n",
              "      <td>315.71</td>\n",
              "      <td>315.71</td>\n",
              "      <td>314.62</td>\n",
              "      <td>-1</td>\n",
              "    </tr>\n",
              "    <tr>\n",
              "      <th>1958-04-01</th>\n",
              "      <td>1958.292</td>\n",
              "      <td>317.45</td>\n",
              "      <td>317.45</td>\n",
              "      <td>315.29</td>\n",
              "      <td>-1</td>\n",
              "    </tr>\n",
              "    <tr>\n",
              "      <th>1958-05-01</th>\n",
              "      <td>1958.375</td>\n",
              "      <td>317.50</td>\n",
              "      <td>317.50</td>\n",
              "      <td>314.71</td>\n",
              "      <td>-1</td>\n",
              "    </tr>\n",
              "    <tr>\n",
              "      <th>1958-06-01</th>\n",
              "      <td>1958.458</td>\n",
              "      <td>-99.99</td>\n",
              "      <td>317.10</td>\n",
              "      <td>314.85</td>\n",
              "      <td>-1</td>\n",
              "    </tr>\n",
              "    <tr>\n",
              "      <th>1958-07-01</th>\n",
              "      <td>1958.542</td>\n",
              "      <td>315.86</td>\n",
              "      <td>315.86</td>\n",
              "      <td>314.98</td>\n",
              "      <td>-1</td>\n",
              "    </tr>\n",
              "    <tr>\n",
              "      <th>...</th>\n",
              "      <td>...</td>\n",
              "      <td>...</td>\n",
              "      <td>...</td>\n",
              "      <td>...</td>\n",
              "      <td>...</td>\n",
              "    </tr>\n",
              "    <tr>\n",
              "      <th>2018-05-01</th>\n",
              "      <td>2018.375</td>\n",
              "      <td>411.24</td>\n",
              "      <td>411.24</td>\n",
              "      <td>407.91</td>\n",
              "      <td>24</td>\n",
              "    </tr>\n",
              "    <tr>\n",
              "      <th>2018-06-01</th>\n",
              "      <td>2018.458</td>\n",
              "      <td>410.79</td>\n",
              "      <td>410.79</td>\n",
              "      <td>408.49</td>\n",
              "      <td>29</td>\n",
              "    </tr>\n",
              "    <tr>\n",
              "      <th>2018-07-01</th>\n",
              "      <td>2018.542</td>\n",
              "      <td>408.71</td>\n",
              "      <td>408.71</td>\n",
              "      <td>408.32</td>\n",
              "      <td>27</td>\n",
              "    </tr>\n",
              "    <tr>\n",
              "      <th>2018-08-01</th>\n",
              "      <td>2018.625</td>\n",
              "      <td>406.99</td>\n",
              "      <td>406.99</td>\n",
              "      <td>408.90</td>\n",
              "      <td>30</td>\n",
              "    </tr>\n",
              "    <tr>\n",
              "      <th>2018-09-01</th>\n",
              "      <td>2018.708</td>\n",
              "      <td>405.51</td>\n",
              "      <td>405.51</td>\n",
              "      <td>409.02</td>\n",
              "      <td>29</td>\n",
              "    </tr>\n",
              "  </tbody>\n",
              "</table>\n",
              "<p>727 rows × 5 columns</p>\n",
              "</div>\n",
              "      <button class=\"colab-df-convert\" onclick=\"convertToInteractive('df-b5b2ea82-c305-45a7-afdc-88dc1bd5cdc0')\"\n",
              "              title=\"Convert this dataframe to an interactive table.\"\n",
              "              style=\"display:none;\">\n",
              "\n",
              "  <svg xmlns=\"http://www.w3.org/2000/svg\" height=\"24px\"viewBox=\"0 0 24 24\"\n",
              "       width=\"24px\">\n",
              "    <path d=\"M0 0h24v24H0V0z\" fill=\"none\"/>\n",
              "    <path d=\"M18.56 5.44l.94 2.06.94-2.06 2.06-.94-2.06-.94-.94-2.06-.94 2.06-2.06.94zm-11 1L8.5 8.5l.94-2.06 2.06-.94-2.06-.94L8.5 2.5l-.94 2.06-2.06.94zm10 10l.94 2.06.94-2.06 2.06-.94-2.06-.94-.94-2.06-.94 2.06-2.06.94z\"/><path d=\"M17.41 7.96l-1.37-1.37c-.4-.4-.92-.59-1.43-.59-.52 0-1.04.2-1.43.59L10.3 9.45l-7.72 7.72c-.78.78-.78 2.05 0 2.83L4 21.41c.39.39.9.59 1.41.59.51 0 1.02-.2 1.41-.59l7.78-7.78 2.81-2.81c.8-.78.8-2.07 0-2.86zM5.41 20L4 18.59l7.72-7.72 1.47 1.35L5.41 20z\"/>\n",
              "  </svg>\n",
              "      </button>\n",
              "\n",
              "\n",
              "\n",
              "    <div id=\"df-974a255d-2900-49f1-b0ca-eedd7205ac8b\">\n",
              "      <button class=\"colab-df-quickchart\" onclick=\"quickchart('df-974a255d-2900-49f1-b0ca-eedd7205ac8b')\"\n",
              "              title=\"Suggest charts.\"\n",
              "              style=\"display:none;\">\n",
              "\n",
              "<svg xmlns=\"http://www.w3.org/2000/svg\" height=\"24px\"viewBox=\"0 0 24 24\"\n",
              "     width=\"24px\">\n",
              "    <g>\n",
              "        <path d=\"M19 3H5c-1.1 0-2 .9-2 2v14c0 1.1.9 2 2 2h14c1.1 0 2-.9 2-2V5c0-1.1-.9-2-2-2zM9 17H7v-7h2v7zm4 0h-2V7h2v10zm4 0h-2v-4h2v4z\"/>\n",
              "    </g>\n",
              "</svg>\n",
              "      </button>\n",
              "    </div>\n",
              "\n",
              "<style>\n",
              "  .colab-df-quickchart {\n",
              "    background-color: #E8F0FE;\n",
              "    border: none;\n",
              "    border-radius: 50%;\n",
              "    cursor: pointer;\n",
              "    display: none;\n",
              "    fill: #1967D2;\n",
              "    height: 32px;\n",
              "    padding: 0 0 0 0;\n",
              "    width: 32px;\n",
              "  }\n",
              "\n",
              "  .colab-df-quickchart:hover {\n",
              "    background-color: #E2EBFA;\n",
              "    box-shadow: 0px 1px 2px rgba(60, 64, 67, 0.3), 0px 1px 3px 1px rgba(60, 64, 67, 0.15);\n",
              "    fill: #174EA6;\n",
              "  }\n",
              "\n",
              "  [theme=dark] .colab-df-quickchart {\n",
              "    background-color: #3B4455;\n",
              "    fill: #D2E3FC;\n",
              "  }\n",
              "\n",
              "  [theme=dark] .colab-df-quickchart:hover {\n",
              "    background-color: #434B5C;\n",
              "    box-shadow: 0px 1px 3px 1px rgba(0, 0, 0, 0.15);\n",
              "    filter: drop-shadow(0px 1px 2px rgba(0, 0, 0, 0.3));\n",
              "    fill: #FFFFFF;\n",
              "  }\n",
              "</style>\n",
              "\n",
              "    <script>\n",
              "      async function quickchart(key) {\n",
              "        const containerElement = document.querySelector('#' + key);\n",
              "        const charts = await google.colab.kernel.invokeFunction(\n",
              "            'suggestCharts', [key], {});\n",
              "      }\n",
              "    </script>\n",
              "\n",
              "      <script>\n",
              "\n",
              "function displayQuickchartButton(domScope) {\n",
              "  let quickchartButtonEl =\n",
              "    domScope.querySelector('#df-974a255d-2900-49f1-b0ca-eedd7205ac8b button.colab-df-quickchart');\n",
              "  quickchartButtonEl.style.display =\n",
              "    google.colab.kernel.accessAllowed ? 'block' : 'none';\n",
              "}\n",
              "\n",
              "        displayQuickchartButton(document);\n",
              "      </script>\n",
              "      <style>\n",
              "    .colab-df-container {\n",
              "      display:flex;\n",
              "      flex-wrap:wrap;\n",
              "      gap: 12px;\n",
              "    }\n",
              "\n",
              "    .colab-df-convert {\n",
              "      background-color: #E8F0FE;\n",
              "      border: none;\n",
              "      border-radius: 50%;\n",
              "      cursor: pointer;\n",
              "      display: none;\n",
              "      fill: #1967D2;\n",
              "      height: 32px;\n",
              "      padding: 0 0 0 0;\n",
              "      width: 32px;\n",
              "    }\n",
              "\n",
              "    .colab-df-convert:hover {\n",
              "      background-color: #E2EBFA;\n",
              "      box-shadow: 0px 1px 2px rgba(60, 64, 67, 0.3), 0px 1px 3px 1px rgba(60, 64, 67, 0.15);\n",
              "      fill: #174EA6;\n",
              "    }\n",
              "\n",
              "    [theme=dark] .colab-df-convert {\n",
              "      background-color: #3B4455;\n",
              "      fill: #D2E3FC;\n",
              "    }\n",
              "\n",
              "    [theme=dark] .colab-df-convert:hover {\n",
              "      background-color: #434B5C;\n",
              "      box-shadow: 0px 1px 3px 1px rgba(0, 0, 0, 0.15);\n",
              "      filter: drop-shadow(0px 1px 2px rgba(0, 0, 0, 0.3));\n",
              "      fill: #FFFFFF;\n",
              "    }\n",
              "  </style>\n",
              "\n",
              "      <script>\n",
              "        const buttonEl =\n",
              "          document.querySelector('#df-b5b2ea82-c305-45a7-afdc-88dc1bd5cdc0 button.colab-df-convert');\n",
              "        buttonEl.style.display =\n",
              "          google.colab.kernel.accessAllowed ? 'block' : 'none';\n",
              "\n",
              "        async function convertToInteractive(key) {\n",
              "          const element = document.querySelector('#df-b5b2ea82-c305-45a7-afdc-88dc1bd5cdc0');\n",
              "          const dataTable =\n",
              "            await google.colab.kernel.invokeFunction('convertToInteractive',\n",
              "                                                     [key], {});\n",
              "          if (!dataTable) return;\n",
              "\n",
              "          const docLinkHtml = 'Like what you see? Visit the ' +\n",
              "            '<a target=\"_blank\" href=https://colab.research.google.com/notebooks/data_table.ipynb>data table notebook</a>'\n",
              "            + ' to learn more about interactive tables.';\n",
              "          element.innerHTML = '';\n",
              "          dataTable['output_type'] = 'display_data';\n",
              "          await google.colab.output.renderOutput(dataTable, element);\n",
              "          const docLink = document.createElement('div');\n",
              "          docLink.innerHTML = docLinkHtml;\n",
              "          element.appendChild(docLink);\n",
              "        }\n",
              "      </script>\n",
              "    </div>\n",
              "  </div>\n"
            ]
          },
          "metadata": {},
          "execution_count": 12
        }
      ],
      "id": "ckA1H13Snfx9"
    },
    {
      "cell_type": "code",
      "source": [
        "fig,ax=plt.subplots()\n",
        "\n",
        "ax.plot(\n",
        "    co2.index,\n",
        "    co2.Interpolated\n",
        ")\n",
        "\n",
        "ax.set_xlabel('Time')\n",
        "ax.set_ylabel('CO2')\n",
        "plt.show()"
      ],
      "metadata": {
        "id": "5lgh8lF5rX1-"
      },
      "execution_count": null,
      "outputs": [],
      "id": "5lgh8lF5rX1-"
    },
    {
      "cell_type": "code",
      "source": [
        "rok_97 = co2[\"1997\":\"1997\"]\n",
        "\n",
        "fig, ax=plt.subplots()\n",
        "\n",
        "ax.plot(\n",
        "    rok_97.index,\n",
        "    rok_97.Interpolated\n",
        ")\n",
        "\n",
        "ax.set_xlabel('Time')\n",
        "ax.set_ylabel('CO2')\n",
        "plt.show()"
      ],
      "metadata": {
        "id": "EashOFgyrvmN"
      },
      "execution_count": null,
      "outputs": [],
      "id": "EashOFgyrvmN"
    },
    {
      "cell_type": "code",
      "source": [
        "url='https://raw.githubusercontent.com/matzim95/ML-datasets/master/temperature.csv'\n",
        "\n",
        "temperature = pd.read_csv(url, parse_dates=True, index_col='dt')\n",
        "temperature.index.names = ['Date']\n",
        "temperature.City.unique()"
      ],
      "metadata": {
        "id": "ijz5rlt4si7-"
      },
      "execution_count": null,
      "outputs": [],
      "id": "ijz5rlt4si7-"
    },
    {
      "cell_type": "code",
      "source": [
        "paris = temperature[temperature.City == 'Paris']\n",
        "paris"
      ],
      "metadata": {
        "id": "KZNRk6v0tVQt"
      },
      "execution_count": null,
      "outputs": [],
      "id": "KZNRk6v0tVQt"
    },
    {
      "cell_type": "code",
      "source": [
        "merged = pd.merge(co2, paris, how='inner', on='Date')\n",
        "merged"
      ],
      "metadata": {
        "id": "dMupI6tAtvAN"
      },
      "execution_count": null,
      "outputs": [],
      "id": "dMupI6tAtvAN"
    },
    {
      "cell_type": "code",
      "source": [
        "fig, ax = plt.subplots()\n",
        "\n",
        "ax.plot(merged.index, merged.Interpolated)\n",
        "ax.plot(merged.index, merged.AverageTemperature)\n",
        "\n",
        "ax.set_xlabel('Time')\n",
        "ax.set_ylabel('CO2/Temperature')\n",
        "plt.show()"
      ],
      "metadata": {
        "id": "Yvha_hgpt63Q"
      },
      "execution_count": null,
      "outputs": [],
      "id": "Yvha_hgpt63Q"
    },
    {
      "cell_type": "markdown",
      "source": [
        "### Dvě odlišné stupnice na ose Y"
      ],
      "metadata": {
        "id": "0XDjvLGeu2zO"
      },
      "id": "0XDjvLGeu2zO"
    },
    {
      "cell_type": "code",
      "source": [
        "fig, ax = plt.subplots(figsize=(8, 5))\n",
        "\n",
        "ax.plot(\n",
        "    merged.index,\n",
        "    merged.Interpolated,color='b'\n",
        ")\n",
        "ax.set_xlabel('Time')\n",
        "ax.set_ylabel('$CO_2$', color='b')\n",
        "ax.tick_params('y', color='b', labelcolor='b')\n",
        "\n",
        "# clone Y-axis (leave X-axis as shared one)\n",
        "ax2 = ax.twinx()\n",
        "ax2.plot(\n",
        "    merged.index,\n",
        "    merged.AverageTemperature,\n",
        "    color='r'\n",
        ")\n",
        "ax2.set_ylabel('Temperature', color='r')\n",
        "ax2.tick_params('y', color='r', labelcolor='r')\n",
        "\n",
        "plt.show()"
      ],
      "metadata": {
        "id": "uPWo8C-4u3rO"
      },
      "execution_count": null,
      "outputs": [],
      "id": "uPWo8C-4u3rO"
    },
    {
      "cell_type": "markdown",
      "source": [
        "### Vytváření grafů pomocí vlastních předdefinovaných funkcí"
      ],
      "metadata": {
        "id": "o5ZLRGpv7RKh"
      },
      "id": "o5ZLRGpv7RKh"
    },
    {
      "cell_type": "code",
      "source": [
        "def plot_timeseries(axis, x, y, color, xlabel, ylabel):\n",
        "  axis.plot(x, y, color)\n",
        "  axis.set_xlabel(xlabel)\n",
        "  axis.set_ylabel(ylabel, color=color)\n",
        "  axis.tick_params('y', colors=color, labelcolor=color)\n"
      ],
      "metadata": {
        "id": "7jCmSbzxvxBB"
      },
      "execution_count": null,
      "outputs": [],
      "id": "7jCmSbzxvxBB"
    },
    {
      "cell_type": "code",
      "source": [
        "fig,ax = plt.subplots()\n",
        "\n",
        "plot_timeseries(\n",
        "    axis=ax,\n",
        "    x=merged.index,\n",
        "    y=merged.Trend,\n",
        "    color='r',\n",
        "    xlabel='Time',\n",
        "    ylabel='CO2'\n",
        ")\n",
        "\n",
        "ax2=ax.twinx()\n",
        "plot_timeseries(\n",
        "    axis=ax2,\n",
        "    x=merged.index,\n",
        "    y=merged.AverageTemperature,\n",
        "    color='b',\n",
        "    xlabel='Time',\n",
        "    ylabel='Temperature'\n",
        ")"
      ],
      "metadata": {
        "id": "_gFT-oa6xQor"
      },
      "execution_count": null,
      "outputs": [],
      "id": "_gFT-oa6xQor"
    },
    {
      "cell_type": "markdown",
      "source": [
        "### **<font color='#306998'>ÚKOL </font><font color='#ffd33b'>PRO VÁS</font>**\n",
        "\n",
        "Na základě dat o počasí ze Seattlu (`weather.csv`) vytvořte graf zobrazující srážky a sílu větru v roce 2014.\n",
        "\n",
        "Dbejte na estetickou stránku grafu (popisek grafu, osy, formát písma, případné rozdělení na 2 dílčí grafy, formát značek).\n",
        "\n",
        "<img src=\"https://drive.google.com/uc?export=view&id=1JKuq1bjzfEFJ2ZQIwyIAzp_Y9nIJKkAf\" alt=\"Matplotlib: úkol pro vás\" title=\"Matplotlib: task for you\" align=\"center\" width=\"750px\" hspace=\"30px\" vspace=\"10px\"/>\n",
        "\n",
        "*Nápověda: použijte `plt.tight_layout()`*"
      ],
      "metadata": {
        "id": "jvWYGmbmypuh"
      },
      "id": "jvWYGmbmypuh"
    },
    {
      "cell_type": "markdown",
      "source": [
        "<img src=\"https://drive.google.com/uc?export=view&id=141XOz6N4nk8Ru1sAl7vOsAToCLrSFCAX\" alt=\"SDA logo\" width=\"150\" align='right'/>\n",
        "<br>\n",
        "\n",
        "## Sloupcové grafy\n",
        "\n",
        "Sloupcové grafy jsou dalším oblíbeným typem vizualizace, který se používá k **<font color='##13e5e1'>zobrazení kategoriálních dat pomocí obdélníkových sloupců</font>**.\n",
        "\n",
        "Chcete-li vytvořit sloupcový graf, použijte funkci `plt.bar()`. Zadejte kategoriální hodnoty jako souřadnice osy X a odpovídající číselné hodnoty jako výšku sloupců.\n",
        "\n",
        "Sloupcové grafy se běžně používají k zobrazení výsledků průzkumů, údajů o prodeji nebo jakýchkoli údajů s odlišnými kategoriemi. Matplotlib poskytuje flexibilitu při přizpůsobování vzhledu sloupcových grafů, což umožňuje vytvářet vizuálně atraktivní a informativní vizualizace."
      ],
      "metadata": {
        "id": "6MxW3uYOolsy"
      },
      "id": "6MxW3uYOolsy"
    },
    {
      "cell_type": "code",
      "source": [
        "url='https://raw.githubusercontent.com/matzim95/ML-datasets/master/population.csv'\n",
        "\n",
        "population = pd.read_csv(url, index_col='City')\n",
        "population.head()"
      ],
      "metadata": {
        "id": "jPptPl3Bom8y"
      },
      "execution_count": null,
      "outputs": [],
      "id": "jPptPl3Bom8y"
    },
    {
      "cell_type": "code",
      "source": [
        "population_by_sex = population.groupby('Sex')\n",
        "both, female, male = [population_by_sex.get_group(x) for x in population_by_sex.groups]"
      ],
      "metadata": {
        "id": "_1ip5ebZo38y"
      },
      "execution_count": null,
      "outputs": [],
      "id": "_1ip5ebZo38y"
    },
    {
      "cell_type": "code",
      "source": [
        "female = population[population.Sex == 'Female']\n",
        "male = population[population.Sex == 'Male']\n",
        "both = population[population.Sex == 'Both Sexes']"
      ],
      "metadata": {
        "id": "s6B1-0Q3pTrh"
      },
      "execution_count": null,
      "outputs": [],
      "id": "s6B1-0Q3pTrh"
    },
    {
      "cell_type": "code",
      "source": [
        "# all together\n",
        "fig, ax = plt.subplots(figsize=(10, 6))\n",
        "\n",
        "ax.bar(both.index,both['Value'])\n",
        "\n",
        "ax.xaxis.set_tick_params(rotation=90)\n",
        "ax.set_ylabel('Population')\n",
        "plt.show()"
      ],
      "metadata": {
        "id": "7PHayxsTpXxQ"
      },
      "execution_count": null,
      "outputs": [],
      "id": "7PHayxsTpXxQ"
    },
    {
      "cell_type": "markdown",
      "source": [
        "Pokud máte **<font color='##13e5e1'>více kategorií k porovnání</font>**, můžete vykreslit seskupené nebo skládané sloupcové grafy zadáním příslušných hodnot parametrům `width` a `bottom` funkce `plt.bar()`."
      ],
      "metadata": {
        "id": "G147mhao961B"
      },
      "id": "G147mhao961B"
    },
    {
      "cell_type": "code",
      "source": [
        "fig, ax = plt.subplots(figsize=(10, 6))\n",
        "\n",
        "ax.bar(male.index, male['Value'], label='Male')\n",
        "ax.bar(female.index, female['Value'], label='Female', bottom=male['Value'])\n",
        "\n",
        "ax.xaxis.set_tick_params(rotation=90)\n",
        "ax.set_ylabel('Population')\n",
        "\n",
        "ax.legend()\n",
        "plt.show()"
      ],
      "metadata": {
        "id": "JkoFKb_1rNpD"
      },
      "execution_count": null,
      "outputs": [],
      "id": "JkoFKb_1rNpD"
    },
    {
      "cell_type": "markdown",
      "source": [
        "### **<font color='#306998'>ÚKOL </font><font color='#ffd33b'>PRO VÁS</font>**\n",
        "\n",
        "Vytvořte sloupcový graf s rozložením mužů a žen v polských městech:\n",
        "* na ose X vyznačte města\n",
        "* na ose Y procentuální podíl daného pohlaví na celé populaci\n",
        "\n",
        "Použijte sloupcové grafy (pro dané město, jeden sloupec nad druhým).\n",
        "\n",
        "Přidejte také vodorovnou čáru ve výšce 0,5.\n",
        "\n",
        "<img src=\"https://drive.google.com/uc?export=view&id=1XMwrPnzmKtbiG98NaO7Z3KgSxcjy9mKW\" alt=\"Matplotlib: task for you\" title=\"Matplotlib: task for you\" align=\"center\" width=\"750px\" hspace=\"30px\" vspace=\"10px\"/>\n",
        "\n",
        "*Nápověda: použijte `plt.axhline()`*"
      ],
      "metadata": {
        "id": "T7K08zjbtTAI"
      },
      "id": "T7K08zjbtTAI"
    },
    {
      "cell_type": "markdown",
      "source": [
        "<img src=\"https://drive.google.com/uc?export=view&id=141XOz6N4nk8Ru1sAl7vOsAToCLrSFCAX\" alt=\"SDA logo\" width=\"150\" align='right'/>\n",
        "<br>\n",
        "\n",
        "## Histogramy\n",
        "\n",
        "Histogram je **<font color='##13e5e1'>grafické znázornění rozložení souboru dat</font>**. Poskytuje vizuální shrnutí základního rozdělení četnosti nebo pravděpodobnosti souboru spojitých nebo diskrétních dat.\n",
        "\n",
        "Histogramy se běžně používají při analýze dat a  explorativní vizualizaci dat. Umožňují rychlé posouzení rozložení dat a mohou zvýraznit důležité rysy, jako jsou odlehlé hodnoty nebo tendence ke shlukování. Histogramy jsou užitečné zejména při analýze spojitých číselných dat, jako jsou výsledky zkoušek, hustota obyvatelstva nebo měření srážek."
      ],
      "metadata": {
        "id": "pPGxe7Xf1sEF"
      },
      "id": "pPGxe7Xf1sEF"
    },
    {
      "cell_type": "code",
      "source": [
        "url = 'https://raw.githubusercontent.com/matzim95/ML-datasets/master/olympic.csv'\n",
        "\n",
        "medals = pd.read_csv(url, index_col='Year')\n",
        "medals.head()"
      ],
      "metadata": {
        "id": "AuxEgRdl1uNU"
      },
      "execution_count": null,
      "outputs": [],
      "id": "AuxEgRdl1uNU"
    },
    {
      "cell_type": "code",
      "source": [
        "def get_dict_with_grouped_data(df, column):\n",
        "  groupby = df.groupby(column)\n",
        "  return {x: groupby.get_group(x) for x in groupby.groups}"
      ],
      "metadata": {
        "id": "pQhcgToG19Dj"
      },
      "execution_count": null,
      "outputs": [],
      "id": "pQhcgToG19Dj"
    },
    {
      "cell_type": "code",
      "source": [
        "all_sports = get_dict_with_grouped_data(medals, 'Sport')\n",
        "\n",
        "all_sports['Basketball']"
      ],
      "metadata": {
        "id": "OlTSMvpx2qxE"
      },
      "execution_count": null,
      "outputs": [],
      "id": "OlTSMvpx2qxE"
    },
    {
      "cell_type": "code",
      "source": [
        "fig,ax = plt.subplots()\n",
        "\n",
        "ax.bar('Gymnastics', all_sports['Gymnastics']['Height'].mean())\n",
        "ax.bar('Basketball', all_sports['Basketball']['Height'].mean())\n",
        "\n",
        "ax.set_ylabel('Height [cm]')\n",
        "plt.show()"
      ],
      "metadata": {
        "id": "_rBhrlEa20N0"
      },
      "execution_count": null,
      "outputs": [],
      "id": "_rBhrlEa20N0"
    },
    {
      "cell_type": "code",
      "source": [
        "fig,ax=plt.subplots()\n",
        "\n",
        "ax.hist(\n",
        "    all_sports['Gymnastics']['Height'],\n",
        "    label='Gymnastics',\n",
        "    bins=20,\n",
        "    alpha=0.6\n",
        ")\n",
        "ax.hist(\n",
        "    all_sports['Basketball']['Height'],\n",
        "    label='Basketball',\n",
        "    bins=20,\n",
        "    alpha=0.6\n",
        ")\n",
        "\n",
        "ax.set_xlabel('Height [cm]')\n",
        "ax.set_ylabel('Number of observations')\n",
        "ax.legend()\n",
        "plt.show()"
      ],
      "metadata": {
        "id": "xEQn8tfI3VFU"
      },
      "execution_count": null,
      "outputs": [],
      "id": "xEQn8tfI3VFU"
    },
    {
      "cell_type": "markdown",
      "source": [
        "### **<font color='#306998'>ÚKOL </font><font color='#ffd33b'>PRO VÁS</font>**\n",
        "\n",
        "Vytvořte graf s histogramem růstu hráčů pro 3 sporty:\n",
        "* experimentujte s parametrem `bins` (počet sloupců) a vyberte si ten nejlepší podle vás.\n",
        "* změňte vzhled grafu\n",
        " * přidejte název\n",
        " * změňte písmo nadpisů\n",
        " * případně změňte orientaci grafu\n",
        " * upravte vzhled sloupců\n",
        " * atd.\n",
        "\n",
        "<img src=\"https://drive.google.com/uc?export=view&id=1xZ9uzqBfnF-L1YgTnwpWuFbLLs-CJHxs\" alt=\"Matplotlib: task for you\" title=\"Matplotlib: task for you\" align=\"center\" width=\"750px\" hspace=\"30px\" vspace=\"10px\"/>"
      ],
      "metadata": {
        "id": "Z-pCxa9c7v4u"
      },
      "id": "Z-pCxa9c7v4u"
    },
    {
      "cell_type": "markdown",
      "source": [
        "## Chybové úsečky (ve sloupcových a čárových grafech)\n",
        "\n",
        "Chybové úsečky se používají k **<font color='##13e5e1'>zobrazení nejistoty nebo variability</font>** spojené s datovými body. Vizuálně znázorňují intervaly spolehlivosti, směrodatné chyby nebo směrodatné odchylky kolem průměrných hodnot nebo mediánu.\n",
        "\n",
        "Zde je návod, jak přidat chybové úsečky do sloupcového/čárového grafu v matplotlibu:"
      ],
      "metadata": {
        "id": "TdNiBc5NCD0u"
      },
      "id": "TdNiBc5NCD0u"
    },
    {
      "cell_type": "code",
      "source": [
        "fig, ax = plt.subplots()\n",
        "\n",
        "ax.bar(\n",
        "    'Gymnastics',\n",
        "    all_sports['Gymnastics']['Height'].mean(),\n",
        "    yerr=all_sports['Gymnastics']['Height'].std()*3\n",
        ")\n",
        "ax.bar(\n",
        "    'Basketball',\n",
        "    all_sports['Basketball']['Height'].mean(),\n",
        "    yerr=all_sports['Basketball']['Height'].std()*3\n",
        ")\n",
        "\n",
        "ax.set_ylabel('Height [cm]')\n",
        "plt.show()"
      ],
      "metadata": {
        "id": "NZsQeTG5CFX3"
      },
      "execution_count": null,
      "outputs": [],
      "id": "NZsQeTG5CFX3"
    },
    {
      "cell_type": "code",
      "source": [
        "try:\n",
        "    display(austin_weather.head())\n",
        "except NameError:\n",
        "    url='https://raw.githubusercontent.com/matzim95/ML-datasets/master/austin_weather.csv'\n",
        "\n",
        "    austin_weather = pd.read_csv(url, parse_dates=True, index_col='Date')\n",
        "    display(austin_weather.head())"
      ],
      "metadata": {
        "id": "BWUtZXclCYpW"
      },
      "id": "BWUtZXclCYpW",
      "execution_count": null,
      "outputs": []
    },
    {
      "cell_type": "code",
      "source": [
        "n = 30\n",
        "fig, ax = plt.subplots(figsize=(10, 4))\n",
        "\n",
        "ax.errorbar(\n",
        "    austin_weather.index[:n],\n",
        "    austin_weather['TempAvgF'][:n],\n",
        "    yerr=(austin_weather['TempHighF'][:n] - austin_weather['TempLowF'][:n])\n",
        ")\n",
        "\n",
        "ax.set_ylabel('Temperature')\n",
        "ax.set_title('Weather in Austin')\n",
        "ax.xaxis.set_tick_params(rotation=30)\n",
        "plt.show()"
      ],
      "metadata": {
        "id": "C01mA7dfCkfV"
      },
      "execution_count": null,
      "outputs": [],
      "id": "C01mA7dfCkfV"
    },
    {
      "cell_type": "markdown",
      "source": [
        "## Krabicový graf (Box plot)\n",
        "\n",
        "Krabicový graf, známý také v angličtině pod názvem box-and-whisker (krabice a vousy), je dalším **<font color='##13e5e1'>grafickým znázorněním rozdělení</font>** souboru dat. Poskytuje souhrn klíčových statistických měr, včetně mediánu, kvartilů a potenciálních odlehlých hodnot.\n",
        "\n",
        "Zde je návod, jak vytvořit krabicový graf v matplotlibu:\n"
      ],
      "metadata": {
        "id": "K37STNspHrZJ"
      },
      "id": "K37STNspHrZJ"
    },
    {
      "cell_type": "code",
      "source": [
        "fig, ax = plt.subplots()\n",
        "\n",
        "ax.boxplot([\n",
        "    all_sports['Gymnastics']['Height'].dropna(),\n",
        "    all_sports['Basketball']['Height'].dropna()\n",
        "])\n",
        "\n",
        "ax.set_xticklabels(['Gymnastics', 'Basketball'])\n",
        "ax.set_ylabel('Height [cm]')\n",
        "plt.show()"
      ],
      "metadata": {
        "id": "-ksryGnWHth1"
      },
      "execution_count": null,
      "outputs": [],
      "id": "-ksryGnWHth1"
    },
    {
      "cell_type": "markdown",
      "source": [
        "## Bodový graf (korelační diagram)\n",
        "\n",
        "Bodový graf je typ **<font color='##13e5e1'>grafu, který zobrazuje vztah mezi dvěma číselnými proměnnými</font>**. Jednotlivé datové body znázorňuje jako body na dvourozměrném souřadnicovém systému.\n",
        "\n",
        "Zde je příklad, jak vytvořit bodový graf:"
      ],
      "metadata": {
        "id": "L0-3Ll8IEJ75"
      },
      "id": "L0-3Ll8IEJ75"
    },
    {
      "cell_type": "code",
      "source": [
        "try:\n",
        "    merged.head()\n",
        "except NameError:\n",
        "    url = 'https://raw.githubusercontent.com/matzim95/ML-datasets/master/co2.csv'\n",
        "    co2 = pd.read_csv(url, parse_dates=True, index_col='Date')\n",
        "\n",
        "    url='https://raw.githubusercontent.com/matzim95/ML-datasets/master/temperature.csv'\n",
        "    temperature = pd.read_csv(url, parse_dates=True, index_col='dt')\n",
        "    temperature.index.names=['Date']\n",
        "\n",
        "    paris=temperature[temperature.City=='Paris']\n",
        "\n",
        "    merged = pd.merge(co2, paris, how='inner', on='Date')"
      ],
      "metadata": {
        "id": "DHn6HwwxDkjP"
      },
      "id": "DHn6HwwxDkjP",
      "execution_count": null,
      "outputs": []
    },
    {
      "cell_type": "code",
      "source": [
        "fig, ax = plt.subplots()\n",
        "ax.scatter(merged['Interpolated'], merged['AverageTemperature'])\n",
        "\n",
        "ax.set_xlabel('CO2')\n",
        "ax.set_ylabel('Temperature')\n",
        "plt.show()"
      ],
      "metadata": {
        "id": "m8V7-y5vKM0W"
      },
      "execution_count": null,
      "outputs": [],
      "id": "m8V7-y5vKM0W"
    },
    {
      "cell_type": "code",
      "source": [
        "merged.index"
      ],
      "metadata": {
        "id": "DqazqQ0zK6-W"
      },
      "execution_count": null,
      "outputs": [],
      "id": "DqazqQ0zK6-W"
    },
    {
      "cell_type": "code",
      "source": [
        "fig, ax = plt.subplots()\n",
        "im = ax.scatter(\n",
        "    merged['Interpolated'],\n",
        "    merged['AverageTemperature'],\n",
        "    c=merged.index\n",
        ")\n",
        "\n",
        "ax.set_xlabel('CO2')\n",
        "ax.set_ylabel('Temperature')\n",
        "fig.colorbar(im, ax=ax)\n",
        "plt.show()"
      ],
      "metadata": {
        "id": "L1aAgGxXKbDG"
      },
      "execution_count": null,
      "outputs": [],
      "id": "L1aAgGxXKbDG"
    },
    {
      "cell_type": "markdown",
      "source": [
        "### **<font color='#306998'>ÚKOL </font><font color='#ffd33b'>PRO VÁS</font>**\n",
        "\n",
        "Vytvořte bodový graf (rozptylový graf) závislosti $CO_2$ na teplotě:\n",
        "* barevně označte body podle roku: 60, 70, 80, 90, 00 a 10.\n",
        "\n",
        "*Nápověda - vytvořte další sloupec na základě `Date`, který bude udávat, ze kterých let je pozorování.\n",
        "\n",
        "<img src=\"https://drive.google.com/uc?export=view&id=1iXzUShuU9LtEw_OkMSnkl0CvpCYQStDL\" alt=\"Matplotlib: úkol pro vás\" title=\"Matplotlib: task for you\" align=\"center\" width=\"750px\" hspace=\"30px\" vspace=\"10px\"/>\n"
      ],
      "metadata": {
        "id": "-8trNpQoLfu1"
      },
      "id": "-8trNpQoLfu1"
    },
    {
      "cell_type": "markdown",
      "source": [
        "## Ukládání grafů\n",
        "\n",
        "Chcete-li uložit graf vytvořený pomocí matplotlibu, můžete použít funkci `plt.savefig()`. Zde je návod, jak to můžete udělat:\n",
        "* po vytvoření grafu přidejte před volání funkce `plt.show()` nebo na konec skriptu následující řádek kódu\n",
        "```python\n",
        "plt.savefig('filename.png')\n",
        "```\n",
        "Nahraďte `'filename.png'` požadovaným názvem, příponou souboru a cestou k souboru. Můžete zadat různé formáty souborů, například PNG, JPEG, PDF, SVG atd.\n",
        "\n",
        "Pokud chcete graf uložit do konkrétního adresáře, nezapomeňte uvést příslušnou cestu. Například `'path/to/save/directory/filename.png'`.\n",
        "\n",
        "\n"
      ],
      "metadata": {
        "id": "MaPiJhi1tU5F"
      },
      "id": "MaPiJhi1tU5F"
    },
    {
      "cell_type": "code",
      "source": [
        "fig.set_size_inches([10,6])\n",
        "fig.savefig('temp_co2_60_10.png')"
      ],
      "metadata": {
        "id": "A8_z7-sBtWxO"
      },
      "execution_count": null,
      "outputs": [],
      "id": "A8_z7-sBtWxO"
    },
    {
      "cell_type": "markdown",
      "source": [
        "Funkce `plt.savefig()` poskytuje další parametry, které umožňují přizpůsobit uložený obrázek. Zde jsou některé běžně používané parametry:\n",
        "* `dpi` (body na palec): Určuje rozlišení nebo kvalitu uloženého obrázku. Vyšší hodnoty znamenají obrázek s vyšším rozlišením.\n",
        "* `bbox_inches`: Určuje část obrázku, která se má uložit. Ve výchozím nastavení se uloží celý obrázek, ale můžete zadat různé volby, například 'tight', které odstraní další bílé místo kolem obrázku. Příklad: plt.savefig('filename.png', bbox_inches='tight')\n",
        "* `transparent`: Určuje, zda má mít uložený obrázek průhledné pozadí.\n",
        "* `pad_inches`: Přidá výplň kolem uloženého obrázku, aby se zabránilo odříznutí prvků. Velikost výplně můžete zadat v palcích. Příklad: plt.savefig('jméno souboru.png', pad_inches=0.5)\n"
      ],
      "metadata": {
        "id": "YM59KBvLGkfK"
      },
      "id": "YM59KBvLGkfK"
    },
    {
      "cell_type": "markdown",
      "source": [
        "<img src=\"https://drive.google.com/uc?export=view&id=1UO2urRciECzoKE_vHy4RMGfFbkOWOGlW\" alt=\"SDA logo\" align=\"left\" width=\"100px\" hspace=\"10px\" vspace=\"10px\"/>\n",
        "<br>\n",
        "\n",
        "# Úkoly"
      ],
      "metadata": {
        "id": "45DZRRlvuoKu"
      },
      "id": "45DZRRlvuoKu"
    },
    {
      "cell_type": "markdown",
      "source": [
        "## **<font color='#306998'>Úkol </font><font color='#ffd33b'>1.1</font>**\n",
        "\n",
        "Vytvořte funkci pro vytvoření bodového grafu (korelačního diagramu) s osami X, Y a 3. rozměrem - barvou bodů. Funkci zavolejte na libovolné 2 datové sady, na kterých jsme pracovali."
      ],
      "metadata": {
        "id": "uuvBIWn0H5o5"
      },
      "id": "uuvBIWn0H5o5"
    },
    {
      "cell_type": "markdown",
      "source": [
        "## **<font color='#306998'>Úkol </font><font color='#ffd33b'>1.2</font>**\n",
        "\n",
        "Vytvořte krabicový graf pro soubor dat o počasí, který zobrazuje rozložení srážek (precipitation) podle typu počasí."
      ],
      "metadata": {
        "id": "rJUkIqYL2vZd"
      },
      "id": "rJUkIqYL2vZd"
    },
    {
      "cell_type": "markdown",
      "source": [
        "## **<font color='#306998'>Úkol </font><font color='#ffd33b'>1.3</font>**\n",
        "\n",
        "Vytvořte sloupcový graf s chybovými úsečkami pro sadu dat o počasí zobrazující průměrné srážky podle typu počasí, přičemž chybové úsečky ukazují směrodatnou odchylku od průměrných srážek."
      ],
      "metadata": {
        "id": "GtCHb4znIH6w"
      },
      "id": "GtCHb4znIH6w"
    },
    {
      "cell_type": "markdown",
      "source": [
        "## **<font color='#306998'>Úkol </font><font color='#ffd33b'>1.4</font>**\n",
        "\n",
        "Vytvořte seskupený graf zobrazující 5 vybraných měst a počet mužů a žen v každém městě.\n",
        "\n",
        "Upravte znaménka na ose Y (např. přidejte čárky za tisíce), přidejte hodnoty nad sloupce."
      ],
      "metadata": {
        "id": "RsrNgcXNIWiZ"
      },
      "id": "RsrNgcXNIWiZ"
    },
    {
      "cell_type": "markdown",
      "source": [
        "<img src=\"https://drive.google.com/uc?export=view&id=1UO2urRciECzoKE_vHy4RMGfFbkOWOGlW\" alt=\"SDA logo\" align=\"left\" width=\"100px\" hspace=\"10px\" vspace=\"10px\"/>\n",
        "\n",
        "# 2. Seaborn\n",
        "\n",
        "Seaborn je knihovna pro vizualizaci dat v jazyce Python postavená nad Matplotlibem. Poskytuje vysokoúrovňové rozhraní pro vytváření atraktivní a informativní statistické grafiky.\n",
        "\n",
        "<img src=\"https://drive.google.com/uc?export=view&id=1iYWtn_YCfkk30BHSvPHgKZi6UUN0kPwA\" alt=\"Seaborn: tabularní data\" title=\"Seaborn: logo\" align=\"center\" width=\"500px\" hspace=\"30px\" vspace=\"10px\"/>\n",
        "\n",
        "Zde je několik klíčových informací o Seabornu:\n",
        "* **<font color='##13e5e1'>zjednodušená syntaxe</font>**: optimalizované funkce a výchozí nastavení pro běžné typy grafů umožňují vytvářet vizuálně přitažlivé grafy s minimem kódu.\n",
        "* **<font color='##13e5e1'>statistické vizualizace</font>**: tato knihovna je užitečná zejména pro zkoumání vztahů mezi proměnnými, vizualizaci rozdělení a zvýraznění zákonitostí v datech. Navíc rozšiřuje možnosti knihovny Matplotlib o další statistické funkce. Obsahuje funkce, jako jsou regresní graf, korelační heatmapa, kategoriální grafy, vizualizace časových řad a podporu statistických anotací.\n",
        "* **<font color='##13e5e1'>Integrace s Pandas</font>**: bezproblémově se integruje s populární knihovnou Pandas pro manipulaci s daty. Jako vstup může přímo přijímat Pandas DataFrame, což je vhodné pro práci s tabulkovými daty.\n",
        "* **<font color='##13e5e1'>Atraktivní výchozí styly</font>**: obsahuje estetické výchozí styly a palety barev.\n",
        "\n",
        "Seaborn je celkově výkonná knihovna pro vizualizaci dat, zejména v oblasti statistické grafiky. Doplňuje Matplotlib a Pandas a usnadňuje vytváření krásných a informativních vizualizací s minimálním úsilím."
      ],
      "metadata": {
        "id": "j22-t2VdPEW2"
      },
      "id": "j22-t2VdPEW2"
    },
    {
      "cell_type": "code",
      "source": [
        "import pandas as pd\n",
        "import matplotlib.pyplot as plt\n",
        "%matplotlib inline\n",
        "import seaborn as sns\n",
        "from IPython.display import display\n",
        "pd.plotting.register_matplotlib_converters()"
      ],
      "metadata": {
        "id": "rOHK_HTDPFeh"
      },
      "execution_count": null,
      "outputs": [],
      "id": "rOHK_HTDPFeh"
    },
    {
      "cell_type": "code",
      "source": [
        "url = 'https://raw.githubusercontent.com/matzim95/ML-datasets/master/wine.csv'\n",
        "wine = pd.read_csv(url)\n",
        "wine.head()"
      ],
      "metadata": {
        "id": "EBSfcY8sPt5D"
      },
      "execution_count": null,
      "outputs": [],
      "id": "EBSfcY8sPt5D"
    },
    {
      "cell_type": "markdown",
      "source": [
        "## Bodový graf s regresním modelem\n",
        "\n",
        "Největší výhodou používání aplikace Seaborn je množství funkcí pro tvorbu grafů. Například **<font color='##13e5e1'>vytvoření bodového grafu v kombinaci s regresním modelem</font>** je pouze jeden řádek kódu pomocí funkce `sns.lmplot()`.\n",
        "\n",
        "To lze provést tímto způsobem:\n",
        "* Předáním objektu DataFrame do argumentu data a zároveň předáním názvů sloupců do argumentů x a y."
      ],
      "metadata": {
        "id": "OkEQTn8JKWB4"
      },
      "id": "OkEQTn8JKWB4"
    },
    {
      "cell_type": "code",
      "source": [
        "sns.lmplot(x='Alcohol', y='Magnesium', data=wine)\n",
        "plt.show()"
      ],
      "metadata": {
        "id": "Xe1gWtbWQQRS"
      },
      "execution_count": null,
      "outputs": [],
      "id": "Xe1gWtbWQQRS"
    },
    {
      "cell_type": "markdown",
      "source": [
        "Seaborn ve skutečnosti nemá speciální funkci pro vykreslení bodového grafu. K vytvoření tohoto grafu použijeme funkci Seaborn `sns.lmplot()`, která nám umožňuje sestrojit a vykreslit regresní přímku.\n",
        "\n",
        "Každá funkce vykreslování má naštěstí několik užitečných možností, které lze nastavit. Zde se dozvíte, jak můžeme funkci lmplot() přizpůsobit vašim potřebám:\n",
        "* nastavte `fit_reg = False`, abyste odstranili regresní přímku, protože chceme bodový graf.\n",
        "* nastavte `hue = 'Class'`, aby se naše body zbarvily podle třídy příkladu."
      ],
      "metadata": {
        "id": "UIBnlqZHMO-H"
      },
      "id": "UIBnlqZHMO-H"
    },
    {
      "cell_type": "code",
      "source": [
        "sns.lmplot(\n",
        "    x='Alcohol',\n",
        "    y='Magnesium',\n",
        "    data=wine,\n",
        "    fit_reg=False,\n",
        "    hue='Class'\n",
        ")\n",
        "\n",
        "plt.show()"
      ],
      "metadata": {
        "id": "A4ZmFyJdQnwS"
      },
      "execution_count": null,
      "outputs": [],
      "id": "A4ZmFyJdQnwS"
    },
    {
      "cell_type": "markdown",
      "source": [
        "### **<font color='#306998'>ÚKOL </font><font color='#ffd33b'>PRO VÁS</font>**\n",
        "\n",
        "Pomocí knihovny seaborn vytvořte graf rozptylu znázorňující vztah mezi koncentrací alkoholu a intenzitou barvy:\n",
        "* jako kategorii zadejte třídu vína\n",
        "* zahrňte lineární regresní přímku pro každou třídu vína zvlášť\n",
        "* naformátujte graf\n",
        "    * přidejte popisy os, název,\n",
        "    * změňte natočení hodnot na ose X,\n",
        "    * přidejte do grafu mřížku.\n",
        "\n",
        "<img src=\"https://drive.google.com/uc?export=view&id=1Mc0N-nUTgqO_HhzJIvpHgN-95a12aPWL\" alt=\"Matplotlib: úkol pro vás\" title=\"Matplotlib: task for you\" align=\"center\" width=\"750px\" hspace=\"30px\" vspace=\"10px\"/>\n"
      ],
      "metadata": {
        "id": "fOJ9_DTpRsuG"
      },
      "id": "fOJ9_DTpRsuG"
    },
    {
      "cell_type": "markdown",
      "source": [
        "## Box plot"
      ],
      "metadata": {
        "id": "X0W1rso3XL49"
      },
      "id": "X0W1rso3XL49"
    },
    {
      "cell_type": "code",
      "source": [
        "# wine.iloc[:,5:-2]"
      ],
      "metadata": {
        "id": "iKEQTE1xXVKC"
      },
      "execution_count": null,
      "outputs": [],
      "id": "iKEQTE1xXVKC"
    },
    {
      "cell_type": "code",
      "source": [
        "g=sns.boxplot(data=wine.iloc[:, 5: -2])\n",
        "g.xaxis.set_tick_params(rotation=90)"
      ],
      "metadata": {
        "id": "hgl_YXTRXNjD"
      },
      "execution_count": null,
      "outputs": [],
      "id": "hgl_YXTRXNjD"
    },
    {
      "cell_type": "markdown",
      "source": [
        "### **<font color='#306998'>ÚKOL </font><font color='#ffd33b'>PRO VÁS</font>**\n",
        "\n",
        "Vytvořte v modulu seaborn krabicový graf, ve kterém znázorníte, jak se obsah alkoholu liší podle stupně vína.\n",
        "\n",
        "<img src=\"https://drive.google.com/uc?export=view&id=1pYMawR-A-Cayk4aYRk39IWZwDkL6JZsN\" alt=\"Matplotlib: úkol pro vás\" title=\"Matplotlib: task for you\" align=\"center\" width=\"750px\" hspace=\"30px\" vspace=\"10px\"/>\n"
      ],
      "metadata": {
        "id": "RdxlYXd5X9PX"
      },
      "id": "RdxlYXd5X9PX"
    },
    {
      "cell_type": "markdown",
      "source": [
        "## Houslový graf (Violin plot)\n",
        "\n",
        "Další výhodou Seabornu je, že má **<font color='##13e5e1'>předdefinované styly</font>**. Výchozí je \"whiteegrid\".\n",
        "\n",
        "Zde jsme při vytváření houslového grafu změnili styl z výchozího `\"whiteegrid\"` na `\"darkgrid\"`. Takový graf zobrazuje rozložení hodnot podobným, ale trochu jiným způsobem než boxplot."
      ],
      "metadata": {
        "id": "wuZhBWNSNLcw"
      },
      "id": "wuZhBWNSNLcw"
    },
    {
      "cell_type": "code",
      "source": [
        "sns.set_style('darkgrid')\n",
        "\n",
        "sns.violinplot(x='Class', y='Alcohol', data=wine)\n",
        "plt.show()"
      ],
      "metadata": {
        "id": "6hs8LvtcZys2"
      },
      "execution_count": null,
      "outputs": [],
      "id": "6hs8LvtcZys2"
    },
    {
      "cell_type": "markdown",
      "source": [
        "Houslové grafy jsou skvělé pro vizualizaci distribuce. Protože je však v našem souboru dat pouze 170 vín, můžeme jednoduše zobrazit každý bod - pomocí swarmplotu zobrazíme polohu každého bodu a poskládáme ty s podobnými hodnotami."
      ],
      "metadata": {
        "id": "f_pUD_O7Nyog"
      },
      "id": "f_pUD_O7Nyog"
    },
    {
      "cell_type": "code",
      "source": [
        "sns.swarmplot(x='Class', y='Alcohol', data=wine, hue='Class')\n",
        "plt.show()"
      ],
      "metadata": {
        "id": "QavvTHdgaxkl"
      },
      "execution_count": null,
      "outputs": [],
      "id": "QavvTHdgaxkl"
    },
    {
      "cell_type": "markdown",
      "source": [
        "Kombinujte to nejlepší z několika typů grafů a knihoven:\n",
        "* Nejprve zvětšíme náš obrázek pomocí Matplotlib.\n",
        "* Poté vykreslíme violinplot s parametrem `inner=None`.\n",
        "* Uvnitř houslového grafu (violin plot) nakreslíme swarmplot s černými body.\n",
        "* Nakonec nastavíme nadpis pomocí Matplotlibu."
      ],
      "metadata": {
        "id": "iPZt7x2TOJHB"
      },
      "id": "iPZt7x2TOJHB"
    },
    {
      "cell_type": "code",
      "source": [
        "sns.set_style('whitegrid')\n",
        "\n",
        "sns.violinplot(x='Class', y='Alcohol', data=wine, inner=None)\n",
        "sns.swarmplot(x='Class', y='Alcohol', data=wine, color='k', alpha=0.7)\n",
        "\n",
        "plt.ylim([10.5, 15.5])\n",
        "plt.title('Alcohol according to the type of wine')\n",
        "plt.show()"
      ],
      "metadata": {
        "id": "ggtprqfobkdk"
      },
      "execution_count": null,
      "outputs": [],
      "id": "ggtprqfobkdk"
    },
    {
      "cell_type": "markdown",
      "source": [
        "Vytvoření tohoto grafu bychom jistě mohli zopakovat pro každou funkci. Můžeme však také tyto informace spojit do jednoho sloupce pomocí funkce `pd.melt()`.\n",
        "\n",
        "Nyní můžeme vykreslit swarmplot pomocí melted_df, ale tentokrát s `x=\"stat\"` a `y=\"value\"`, takže naše grafy budou oddělené. Atribut `hue =\"Class\"` nám umožní obarvit body podle typu vína."
      ],
      "metadata": {
        "id": "Bg8c8_NpO4ic"
      },
      "id": "Bg8c8_NpO4ic"
    },
    {
      "cell_type": "code",
      "source": [
        "wine.columns"
      ],
      "metadata": {
        "colab": {
          "base_uri": "https://localhost:8080/"
        },
        "id": "ynEKprhyQXrA",
        "outputId": "0fb7aeb8-4c0b-45fd-8f16-a903e172b0da"
      },
      "id": "ynEKprhyQXrA",
      "execution_count": null,
      "outputs": [
        {
          "output_type": "execute_result",
          "data": {
            "text/plain": [
              "Index(['Alcohol', 'Malic acid', 'Ash', 'Alcalinity of ash', 'Magnesium',\n",
              "       'Total phenols', 'Flavanoids', 'Nonflavanoid phenols',\n",
              "       'Proanthocyanins', 'Color intensity', 'Hue',\n",
              "       'OD280/OD315 of diluted wines', 'Proline', 'Class'],\n",
              "      dtype='object')"
            ]
          },
          "metadata": {},
          "execution_count": 5
        }
      ]
    },
    {
      "cell_type": "code",
      "source": [
        "melted_df = pd.melt(\n",
        "    wine[[\n",
        "        'Total phenols', 'Flavanoids', 'Nonflavanoid phenols',\n",
        "        'Proanthocyanins', 'Color intensity', 'Hue',\n",
        "        'OD280/OD315 of diluted wines', 'Class'\n",
        "    ]],\n",
        "    id_vars='Class',\n",
        "    var_name='stat'\n",
        ")\n",
        "melted_df"
      ],
      "metadata": {
        "id": "mKsIPRtJPQhi"
      },
      "id": "mKsIPRtJPQhi",
      "execution_count": null,
      "outputs": []
    },
    {
      "cell_type": "code",
      "source": [
        "import warnings\n",
        "# warnings.simplefilter('always', category=UserWarning)\n",
        "warnings.filterwarnings(\"ignore\")"
      ],
      "metadata": {
        "id": "OTU8x3vo-L_b"
      },
      "id": "OTU8x3vo-L_b",
      "execution_count": null,
      "outputs": []
    },
    {
      "cell_type": "code",
      "source": [
        "plt.figure(figsize=(10, 6))\n",
        "\n",
        "sns.swarmplot(x='stat', y='value', data=melted_df, hue='Class')\n",
        "\n",
        "plt.legend(bbox_to_anchor=(1, 1), loc=2)\n",
        "plt.xticks(rotation=15)\n",
        "plt.show()"
      ],
      "metadata": {
        "id": "hY5xsGSMPej1"
      },
      "id": "hY5xsGSMPej1",
      "execution_count": null,
      "outputs": []
    },
    {
      "cell_type": "markdown",
      "source": [
        "## Heatmapy\n",
        "\n",
        "Heatmapa je **<font color='##13e5e1'>grafická reprezentace dat, kde jsou hodnoty matice reprezentovány jako barvy</font>**. Seaborn poskytuje pohodlnou funkci pro vytváření heatmap s názvem `sns.heatmap()`.\n",
        "\n",
        "Zde je příklad vytvoření heatmapy pomocí modulu Seaborn:"
      ],
      "metadata": {
        "id": "08COWCXWdI8t"
      },
      "id": "08COWCXWdI8t"
    },
    {
      "cell_type": "code",
      "source": [
        "corr = wine.corr()\n",
        "corr"
      ],
      "metadata": {
        "id": "1hDKDQXbdKgU"
      },
      "execution_count": null,
      "outputs": [],
      "id": "1hDKDQXbdKgU"
    },
    {
      "cell_type": "code",
      "source": [
        "sns.heatmap(corr)\n",
        "plt.show()"
      ],
      "metadata": {
        "id": "rQl2BSAydO2T"
      },
      "execution_count": null,
      "outputs": [],
      "id": "rQl2BSAydO2T"
    },
    {
      "cell_type": "markdown",
      "source": [
        "### **<font color='#306998'>ÚKOL </font><font color='#ffd33b'>PRO VÁS</font>**\n",
        "\n",
        "Vytvořte graf, tj. heatmapu, zobrazující korelaci mezi proměnnými z databáze vín:\n",
        "* do čtverců kromě barvy vložte hodnotu korelace.\n",
        "* změňte výchozí barevnou škálu - např. zeleno-modrá, modro-červená.\n",
        "\n",
        "<img src=\"https://drive.google.com/uc?export=view&id=1kKRYjYJU-Lkxu2WBNw5dLG_yOiLgTSc1\" alt=\"Matplotlib: úkol pro vás\" title=\"Matplotlib: task for you\" align=\"center\" width=\"750px\" hspace=\"30px\" vspace=\"10px\"/>\n"
      ],
      "metadata": {
        "id": "psL-fCxFefYj"
      },
      "id": "psL-fCxFefYj"
    },
    {
      "cell_type": "markdown",
      "source": [
        "## Histogram s KDE (kernel density estimation)\n",
        "V Seabornu je funkce `displot()` určena k vytváření různých grafů pro jednorozměrná rozdělení. Podporuje různé typy grafů, včetně histogramů, **<font color='##13e5e1'>kernelový odhad hustoty pravděpodbnosti (KDE) </font>**, a kobercové grafy (rug ploty). Při použití funkce `displot()` s parametrem 'kind' nastaveným na 'kde' se vygeneruje graf KDE.\n",
        "\n",
        "Graf KDE vizualizuje **<font color='##13e5e1'>odhadovanou funkci hustoty pravděpodobnosti spojité proměnné</font>**. Poskytuje hladkou křivku, která aproximuje základní rozdělení dat."
      ],
      "metadata": {
        "id": "dxR_oc-DRlsJ"
      },
      "id": "dxR_oc-DRlsJ"
    },
    {
      "cell_type": "code",
      "source": [
        "sns.displot(wine.Alcohol, kde=True)\n",
        "plt.show()"
      ],
      "metadata": {
        "id": "rLe7NC5qi__F"
      },
      "execution_count": null,
      "outputs": [],
      "id": "rLe7NC5qi__F"
    },
    {
      "cell_type": "markdown",
      "source": [
        "## Countplot\n",
        "\n",
        "Countplot je **<font color='##13e5e1'>typ sloupcového grafu, ve kterém je počet nebo četnost jednotlivých kategorií</font>** v kategoriální proměnné reprezentován výškou sloupců. Seaborn poskytuje pohodlnou funkci nazvanou `sns.countplot()`, která slouží k vytváření countplotů.\n",
        "\n"
      ],
      "metadata": {
        "id": "TcZDJmwuRyYL"
      },
      "id": "TcZDJmwuRyYL"
    },
    {
      "cell_type": "code",
      "source": [
        "sns.countplot(x='Class', data=wine)\n",
        "plt.show()"
      ],
      "metadata": {
        "id": "rME4FC9Arium"
      },
      "execution_count": null,
      "outputs": [],
      "id": "rME4FC9Arium"
    },
    {
      "cell_type": "markdown",
      "source": [
        "## KDE & společné grafy pro 2D data\n",
        "\n",
        "Pro vytvoření 2D grafu odhadu hustoty jádra (KDE) v programu Seaborn můžete použít funkci `sns.kdeplot()`. Tento graf umožňuje vizualizovat hustotu dvourozměrného souboru dat, který představuje společné rozdělení dvou spojitých proměnných."
      ],
      "metadata": {
        "id": "nxObE_jBSiL7"
      },
      "id": "nxObE_jBSiL7"
    },
    {
      "cell_type": "code",
      "source": [
        "sns.kdeplot(\n",
        "    data=wine,\n",
        "    x='Alcohol',\n",
        "    y='Magnesium'\n",
        ")\n",
        "plt.show()"
      ],
      "metadata": {
        "id": "Su_-8Gbtr_Ul"
      },
      "execution_count": null,
      "outputs": [],
      "id": "Su_-8Gbtr_Ul"
    },
    {
      "cell_type": "code",
      "source": [
        "sns.jointplot(\n",
        "    data=wine,\n",
        "    x='Alcohol',\n",
        "    y='Magnesium'\n",
        ")\n",
        "plt.show()"
      ],
      "metadata": {
        "id": "SWqs0Maosl_2"
      },
      "execution_count": null,
      "outputs": [],
      "id": "SWqs0Maosl_2"
    },
    {
      "cell_type": "markdown",
      "source": [
        "### **<font color='#306998'>ÚKOL </font><font color='#ffd33b'>PRO VÁS</font>**\n",
        "\n",
        "Aktualizujte výše uvedený graf kdeplot a:\n",
        "* definujte počet úrovní hustoty jako 10\n",
        "* přidejte barevnou škálu\n",
        "    * barva čáry i výplň mezi vrstvami - čím blíže ke středu, tím intenzivnější je barva\n",
        "* vedle grafu umístěte legendu s barevnou škálou\n",
        "\n",
        "<img src=\"https://drive.google.com/uc?export=view&id=15FB8Svo8aHiKBLgNvPRMrQCFKp7rws9L\" alt=\"Matplotlib: úkol pro vás\" title=\"Matplotlib: task for you\" align=\"center\" width=\"750px\" hspace=\"30px\" vspace=\"10px\"/>\n",
        "\n",
        "*Nápověda: Použijte cmap='viridis'*"
      ],
      "metadata": {
        "id": "ncoF3EhPtHKf"
      },
      "id": "ncoF3EhPtHKf"
    },
    {
      "cell_type": "code",
      "source": [
        "from plotnine import *\n",
        "from plotnine.data import mpg"
      ],
      "metadata": {
        "id": "_i3_mClezABo"
      },
      "execution_count": null,
      "outputs": [],
      "id": "_i3_mClezABo"
    },
    {
      "cell_type": "code",
      "source": [
        "mpg.head()"
      ],
      "metadata": {
        "id": "DL6jkpQkzcZH"
      },
      "execution_count": null,
      "outputs": [],
      "id": "DL6jkpQkzcZH"
    },
    {
      "cell_type": "markdown",
      "source": [
        "<img src=\"https://drive.google.com/uc?export=view&id=1UO2urRciECzoKE_vHy4RMGfFbkOWOGlW\" alt=\"SDA logo\" align=\"left\" width=\"100px\" hspace=\"10px\" vspace=\"10px\"/>\n",
        "<br>\n",
        "\n",
        "# TASKS"
      ],
      "metadata": {
        "id": "Wi1N89rTUdpp"
      },
      "id": "Wi1N89rTUdpp"
    },
    {
      "cell_type": "markdown",
      "source": [
        "## **<font color='#306998'>ÚKOL </font><font color='#ffd33b'>2.1</font>**\n",
        "\n",
        "Pro následující soubor dat:\n",
        "```python\n",
        "from plotnine import *\n",
        "from plotnine.data import mpg\n",
        "\n",
        "mpg.head()\n",
        "```\n",
        "Vytvořte histogram s objemem motoru (\"displ\"):\n",
        "* definujte barvu sloupců\n",
        "* přidejte popis osy a název grafu\n",
        "* změňte téma (theme) grafu (pozadí, např. z tmavě šedé na bílou bez mřížky)"
      ],
      "metadata": {
        "id": "rnVFTA0Z2YqM"
      },
      "id": "rnVFTA0Z2YqM"
    },
    {
      "cell_type": "markdown",
      "source": [
        "## **<font color='#306998'>ÚKOL </font><font color='#ffd33b'>2.2</font>**\n",
        "\n",
        "Vytvořte graf znázorňující rozložení koncentrace alkoholu ve víně:\n",
        "* označte osy X, Y a přidejte nadpis\n",
        "* přidejte svislou čáru znázorňující průměrnou hodnotu koncentrace"
      ],
      "metadata": {
        "id": "cWXVZ5hA_EQt"
      },
      "id": "cWXVZ5hA_EQt"
    },
    {
      "cell_type": "markdown",
      "source": [
        "## **<font color='#306998'>ÚKOL </font><font color='#ffd33b'>2.3</font>**\n",
        "\n",
        "Vytvořte graf znázorňující počet vín podle tříd. Dbejte na estetickou stránku grafu."
      ],
      "metadata": {
        "id": "sgLq_ecBElLB"
      },
      "id": "sgLq_ecBElLB"
    },
    {
      "cell_type": "markdown",
      "source": [
        "## **<font color='#306998'>ÚKOL </font><font color='#ffd33b'>2.4</font>**\n",
        "\n",
        "Pro datovou sadu `mpg` definovanou v úloze 2.1 vytvořte společný graf zobrazující vztah objemu motoru (\"displ\") a počtu mil na galon na dálnici (\"hwy\"):\n",
        "1. Jako barvu uveďte třídu vozu.\n",
        "2. Přidejte do grafu nadpis a mřížku grafu a změňte písmo (poznámka - jiné než v matplotlib)."
      ],
      "metadata": {
        "id": "Z5EiWrzN2by2"
      },
      "id": "Z5EiWrzN2by2"
    },
    {
      "cell_type": "markdown",
      "source": [
        "## **<font color='#306998'>ÚKOL </font><font color='#ffd33b'>2.5</font>**\n",
        "\n",
        "Vytvořte graf s kernelovým odhadem hustoty zobrazující vztah mezi objemem motoru a počtem ujetých kilometrů na galon na dálnici.\n",
        "1. Přidejte do grafu výplň a definujte barevnou škálu, která se bude lišit od výchozí.\n",
        "1. Omezte plochu grafu - osa X: (0,7), osa Y: (5,40)."
      ],
      "metadata": {
        "id": "0V82RRYP8uJY"
      },
      "id": "0V82RRYP8uJY"
    },
    {
      "cell_type": "markdown",
      "source": [
        "## **<font color='#306998'>ÚKOL </font><font color='#ffd33b'>2.6</font>**\n",
        "\n",
        "Vytvořte heatmapu pro všechny spojité proměnné ze sady `mpg` a zobrazte korelaci mezi proměnnými.\n",
        "* Přidejte hodnoty korelace jako anotace do buněk heatmapy.\n",
        "* Definujte barevnou škálu a formát anotací."
      ],
      "metadata": {
        "id": "9poUxitVB5Te"
      },
      "id": "9poUxitVB5Te"
    },
    {
      "cell_type": "markdown",
      "source": [
        "## **<font color='#306998'>ÚKOL </font><font color='#ffd33b'>2.7</font>**\n",
        "\n",
        "Vytvořte graf znázorňující rozložení objemu motoru (\"displ\") podle třídy vozidla.\n",
        "1. Do grafu zahrňte dva typy grafů najednou (např. boxplot + swarm).\n",
        "1. Změňte barevnou paletu"
      ],
      "metadata": {
        "id": "84Z_86e0HPQb"
      },
      "id": "84Z_86e0HPQb"
    },
    {
      "cell_type": "markdown",
      "source": [
        "## **<font color='#306998'>ÚKOL </font><font color='#ffd33b'>2.8</font>**\n",
        "\n",
        "Vytvořte graf `lmplot` zobrazující vztah mezi objemem motoru (\"displ\") a počtem válců (\"cyl\").\n",
        "1. Dbejte na estetiku grafu.\n",
        "1. Přidejte do grafu anotaci označující závislost mezi zobrazenými proměnnými.\n",
        "\n",
        "*Nápověda: můžete použít*\n",
        "```python\n",
        "from scipy.stats import pearsonr\n",
        "corr, _ = pearsonr(mpg.displ, mpg.cyl)\n",
        "```"
      ],
      "metadata": {
        "id": "S-8SGO_nM5-x"
      },
      "id": "S-8SGO_nM5-x"
    },
    {
      "cell_type": "markdown",
      "source": [
        "## **<font color='#306998'>ÚKOL </font><font color='#ffd33b'>2.9</font>**\n",
        "\n",
        "Na základě níže uvedených dat:\n",
        "1. Vytvořte graf vztahu mezi spotřebou piva a vína, jako kategorie označte kontinent.\n",
        "1. Vytvořte graf s mírami rozložení spotřeby čistého alkoholu podle jednotlivých kontinentů."
      ],
      "metadata": {
        "id": "000vYWKTYho4"
      },
      "id": "000vYWKTYho4"
    },
    {
      "cell_type": "code",
      "source": [
        "url='https://raw.githubusercontent.com/matzim95/ML-datasets/master/drinks.csv'\n",
        "alcohols=pd.read_csv(url)\n",
        "alcohols.head()"
      ],
      "metadata": {
        "id": "mtUheEQIYmn_"
      },
      "id": "mtUheEQIYmn_",
      "execution_count": null,
      "outputs": []
    }
  ],
  "metadata": {
    "colab": {
      "provenance": [],
      "include_colab_link": true
    },
    "gpuClass": "standard",
    "kernelspec": {
      "display_name": "Python 3",
      "name": "python3"
    },
    "language_info": {
      "name": "python"
    }
  },
  "nbformat": 4,
  "nbformat_minor": 5
}