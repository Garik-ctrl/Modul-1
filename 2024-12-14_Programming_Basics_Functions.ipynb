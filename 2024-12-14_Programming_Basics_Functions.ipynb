{
 "cells": [
  {
   "cell_type": "markdown",
   "metadata": {},
   "source": [
    "14.12.2024 \n",
    "\n",
    "Data analyst \n",
    "\n",
    "MODULE 2: Programming Basics Functions"
   ]
  },
  {
   "cell_type": "markdown",
   "metadata": {},
   "source": [
    "Jednoduchá funkce"
   ]
  },
  {
   "cell_type": "code",
   "execution_count": null,
   "metadata": {},
   "outputs": [],
   "source": [
    "def greet():\n",
    "    print(\"Ciao\")\n",
    "\n",
    "greet()"
   ]
  },
  {
   "cell_type": "markdown",
   "metadata": {},
   "source": [
    "Funkce pomocí lambdy"
   ]
  },
  {
   "cell_type": "code",
   "execution_count": null,
   "metadata": {},
   "outputs": [],
   "source": [
    "greet2=lambda: print(\"Ciao\")\n",
    "greet2()"
   ]
  },
  {
   "cell_type": "markdown",
   "metadata": {},
   "source": [
    "Definování globální a lokální funkce"
   ]
  },
  {
   "cell_type": "code",
   "execution_count": null,
   "metadata": {},
   "outputs": [],
   "source": [
    "this_text=\"Dneska je pondělí\"\n",
    "def log_into_terminal():\n",
    "    local_text=\"Dneska je neděle\"\n",
    "    print(\"Globální proměnná :\", this_text) #Př.1\n",
    "    print(\"Lokální proměnná :\", local_text) #Př.2\n",
    "\n",
    "\n",
    "log_into_terminal()"
   ]
  },
  {
   "cell_type": "markdown",
   "metadata": {},
   "source": [
    "### Definování nové funkce\n",
    "\n",
    "Functions can invoke other functions. Define a new function another_function() that calls log_into_terminal().\n",
    "\n",
    "another_function() triggers log_into_terminal(), which then prints this_text and local_text to the terminal."
   ]
  },
  {
   "cell_type": "code",
   "execution_count": null,
   "metadata": {},
   "outputs": [],
   "source": [
    "this_text=\"Dneska je pondělí\"\n",
    "def log_into_terminal():\n",
    "    local_text=\"Dneska je neděle\"\n",
    "    print(\"Globální proměnná :\", this_text) #Př.1\n",
    "    print(\"Lokální proměnná :\", local_text) #Př.2\n",
    "\n",
    "def another_function():\n",
    "    log_into_terminal()\n",
    "\n",
    "another_function()"
   ]
  },
  {
   "cell_type": "markdown",
   "metadata": {},
   "source": [
    "### Funception\n",
    "\n",
    "Define a function within log_into_terminal(). Name it fourth_function() and have it print a string.\n",
    "\n",
    "Call fourth_function() within log_into_terminal().\n",
    "\n",
    "fourth_function() is defined and executed inside log_into_terminal()."
   ]
  },
  {
   "cell_type": "code",
   "execution_count": null,
   "metadata": {},
   "outputs": [],
   "source": [
    "this_text=\"Dneska je pondělí\"\n",
    "def log_into_terminal():\n",
    "    local_text=\"Dneska je neděle\"\n",
    "    print(\"Globální proměnná :\", this_text) #Př.1\n",
    "    print(\"Lokální proměnná :\", local_text) #Př.2\n",
    "\n",
    "    def fourth_function():\n",
    "        print(\"Ahoj všem\")\n",
    "\n",
    "    fourth_function()\n",
    "\n",
    "def another_function():\n",
    "    log_into_terminal()\n",
    "\n",
    "another_function()"
   ]
  },
  {
   "cell_type": "code",
   "execution_count": null,
   "metadata": {},
   "outputs": [],
   "source": [
    "this_text=\"Dneska je pondělí\"\n",
    "def log_into_terminal():\n",
    "    def fourth_function():\n",
    "        print(\"Ahoj všem\")\n",
    "\n",
    "    fourth_function()\n",
    "    local_text=\"Dneska je neděle\"\n",
    "    print(\"Globální proměnná :\", this_text) #Př.1\n",
    "    print(\"Lokální proměnná :\", local_text) #Př.2\n",
    "\n",
    "    \n",
    "def another_function():\n",
    "    log_into_terminal()\n",
    "\n",
    "another_function()"
   ]
  },
  {
   "cell_type": "markdown",
   "metadata": {},
   "source": [
    "### Arguments and Parameters\n",
    "\n",
    "Add to the log_into_terminal() function the ability to enter an argument to be output using the return clause. Capture this output and enter it as input to another_function().\n",
    "\n",
    "Function another_function() receives and prints a string argument from the log_into_terminal()."
   ]
  },
  {
   "cell_type": "code",
   "execution_count": null,
   "metadata": {},
   "outputs": [],
   "source": [
    "this_text=\"Dneska je pondělí\"\n",
    "def log_into_terminal():\n",
    "    x=input(\"Zadej své jméno: \")\n",
    "    return x\n",
    "\n",
    "def another_function():\n",
    "    return log_into_terminal()\n",
    "\n",
    "promenna=another_function()\n",
    "print(promenna)"
   ]
  },
  {
   "cell_type": "markdown",
   "metadata": {},
   "source": [
    "### TypeError | Additional Parameters\n",
    "Now, that you've introduced an additional parameter to the log_into_terminal() function definition, you can encounter a TypeError, which indicates that the function was called with more or less arguments than expected.\n",
    "\n",
    "The function was previously defined not to accept any arguments, so now you can see the following information missing 1 required positional argument (...).\n",
    "\n",
    "Every previously created call to log_into_terminal() includes an argument."
   ]
  },
  {
   "cell_type": "code",
   "execution_count": 32,
   "metadata": {},
   "outputs": [
    {
     "name": "stdout",
     "output_type": "stream",
     "text": [
      "Garik Doe\n"
     ]
    }
   ],
   "source": [
    "this_text=\"Dneska je pondělí\"\n",
    "def log_into_terminal(jmeno=\"John\", prijmeni=\"Doe\"):\n",
    "    return jmeno + \" \" + prijmeni \n",
    "\n",
    "\n",
    "promenna=log_into_terminal(input(\"Zadej své křestní jmeno: \"))\n",
    "print(promenna)"
   ]
  },
  {
   "cell_type": "markdown",
   "metadata": {},
   "source": [
    "### Enhance log_into_terminal() to accept and display a second parameter. \n",
    "\n",
    "Define variables before each call to log_into_terminal(), passing these as arguments.\n",
    "log_into_terminal() now accepts a second parameter, second_to_log.\n",
    "Each log_into_terminal() invocation includes a second argument.\n",
    "Different variables are passed as the second argument in each log_into_terminal() call."
   ]
  },
  {
   "cell_type": "code",
   "execution_count": null,
   "metadata": {},
   "outputs": [],
   "source": [
    "this_text=\"Dneska je pondělí\"\n",
    "def log_into_terminal(jmeno=\"John\", prijmeni=None):\n",
    "    if prijmeni==None:\n",
    "        return jmeno \n",
    "    else:\n",
    "        return jmeno + \" \" + prijmeni\n",
    "\n",
    "\n",
    "promenna=log_into_terminal(input(\"Zadej své křestní jmeno: \"))\n",
    "print(promenna)"
   ]
  },
  {
   "cell_type": "markdown",
   "metadata": {},
   "source": [
    "chci vytisknout pozdravy pěti různým lidem s použitím funkce"
   ]
  },
  {
   "cell_type": "code",
   "execution_count": null,
   "metadata": {},
   "outputs": [],
   "source": [
    "def greetings(jmeno):\n",
    "    return print(f\"Ahoj {jmeno}!\")\n",
    "\n",
    "pole_jmen=[\"Garik\",\"Jana\", \"Mária\", \"Katka\", \"Juan\"]\n",
    "for i in pole_jmen:\n",
    "    greetings(i)"
   ]
  },
  {
   "cell_type": "markdown",
   "metadata": {},
   "source": [
    "Faktoriál: zápis \n",
    "1!=1\n",
    "4!=4*3*2*1=24\n",
    "5!=5*4*3*2*1=120"
   ]
  },
  {
   "cell_type": "code",
   "execution_count": null,
   "metadata": {},
   "outputs": [],
   "source": [
    "def faktorial(n):\n",
    "    \n",
    "    def rekurze(x):\n",
    "        if x==1:\n",
    "            return 1\n",
    "        \n",
    "        return x*rekurze(x-1)\n",
    "    \n",
    "    return rekurze(n)\n",
    "\n",
    "print(faktorial(5))"
   ]
  },
  {
   "cell_type": "markdown",
   "metadata": {},
   "source": [
    "x=5\n",
    "\n",
    "rekurze(5)=5*rekurze(4)\n",
    "\n",
    "rekurze(4)=4*rekurze(3)\n",
    "\n",
    "rekurze(3)=3*rekurze(2)\n",
    "\n",
    "rekurze(2)=2*rekurze(1)\n",
    "\n",
    "rekurze(1)=1\n",
    "\n",
    "\n",
    "\n"
   ]
  },
  {
   "cell_type": "markdown",
   "metadata": {},
   "source": [
    "Definovali funkci pozdrav() - bude se ptát uživatele na jméno, \n",
    "pokud uživatel zadá, vytiskne AHOJ jméno !, \n",
    "pokud uživatel zadá XXX program skončí"
   ]
  },
  {
   "cell_type": "code",
   "execution_count": null,
   "metadata": {},
   "outputs": [],
   "source": [
    "def pozdrav():\n",
    "    while True: #akoby smycka stale sa mi opakuje, zastavi mi to az break\n",
    "      meno = input(\"Zadaj meno, alebo XXX pre ukoncenie: \")\n",
    "      if meno.upper()==\"XXX\":\n",
    "        print (\"Program skoncil\")\n",
    "        break\n",
    "      else:\n",
    "        print(f\"Ahoj, {meno}!\")\n",
    "\n",
    "pozdrav()"
   ]
  },
  {
   "cell_type": "markdown",
   "metadata": {},
   "source": [
    "Python rozlišuje malá a velká písmena. \n",
    "\n",
    "Při použití funkce upper() vše převede na velká písmena"
   ]
  },
  {
   "cell_type": "code",
   "execution_count": null,
   "metadata": {},
   "outputs": [],
   "source": [
    "print(\"X\"==\"x\".upper())"
   ]
  },
  {
   "cell_type": "markdown",
   "metadata": {},
   "source": [
    "Funkce Dir() nám ukáže, co jsou dostupné funkce pro daný datový typ"
   ]
  },
  {
   "cell_type": "code",
   "execution_count": null,
   "metadata": {},
   "outputs": [],
   "source": [
    "dir([2,3])"
   ]
  },
  {
   "cell_type": "code",
   "execution_count": null,
   "metadata": {},
   "outputs": [],
   "source": [
    "def suma_X_cisel(a=0,b=0,*dalsi_cisla):\n",
    "    print(dalsi_cisla, type(dalsi_cisla))\n",
    "    suma=a+b\n",
    "    for i in dalsi_cisla:\n",
    "        suma+=i\n",
    "    return suma\n",
    "\n",
    "suma_X_cisel(2,35,-1,9,10)"
   ]
  }
 ],
 "metadata": {
  "kernelspec": {
   "display_name": "Python 3",
   "language": "python",
   "name": "python3"
  },
  "language_info": {
   "codemirror_mode": {
    "name": "ipython",
    "version": 3
   },
   "file_extension": ".py",
   "mimetype": "text/x-python",
   "name": "python",
   "nbconvert_exporter": "python",
   "pygments_lexer": "ipython3",
   "version": "3.13.0"
  }
 },
 "nbformat": 4,
 "nbformat_minor": 2
}
