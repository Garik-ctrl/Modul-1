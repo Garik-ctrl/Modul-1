{
  "nbformat": 4,
  "nbformat_minor": 0,
  "metadata": {
    "colab": {
      "provenance": [],
      "authorship_tag": "ABX9TyNDBCLMVxuKC5yx28ooQr73",
      "include_colab_link": true
    },
    "kernelspec": {
      "name": "python3",
      "display_name": "Python 3"
    },
    "language_info": {
      "name": "python"
    }
  },
  "cells": [
    {
      "cell_type": "markdown",
      "metadata": {
        "id": "view-in-github",
        "colab_type": "text"
      },
      "source": [
        "<a href=\"https://colab.research.google.com/github/Garik-ctrl/Modul-1/blob/main/2025_01_11_Built_in_Features.ipynb\" target=\"_parent\"><img src=\"https://colab.research.google.com/assets/colab-badge.svg\" alt=\"Open In Colab\"/></a>"
      ]
    },
    {
      "cell_type": "markdown",
      "source": [
        "###  Př. 1 String repeat\n",
        "The pizza company's customers have unique tastes; they prefer pizza names to be stylized in a particular way. Create a Python function named string_repeat() that takes two arguments, number (an integer) and str (a string), and returns the str repeated number times.\n",
        "\n",
        "The `string_repeat(2, \"HawaiiPizza\")` function should return the string `HawaiiPizzaHawaiiPizza`.\n",
        "\n"
      ],
      "metadata": {
        "id": "QdP1Fuw0jbO3"
      }
    },
    {
      "cell_type": "code",
      "execution_count": 1,
      "metadata": {
        "colab": {
          "base_uri": "https://localhost:8080/",
          "height": 35
        },
        "id": "UwtjEo6ajTQY",
        "outputId": "61f6d85f-f87b-4bb4-c13f-6070fa851085"
      },
      "outputs": [
        {
          "output_type": "execute_result",
          "data": {
            "text/plain": [
              "'HawaiiPizzaHawaiiPizza'"
            ],
            "application/vnd.google.colaboratory.intrinsic+json": {
              "type": "string"
            }
          },
          "metadata": {},
          "execution_count": 1
        }
      ],
      "source": [
        "def string_repeat(number, str):\n",
        "    return str * number\n",
        "\n",
        "string_repeat(2, \"HawaiiPizza\")"
      ]
    },
    {
      "cell_type": "code",
      "source": [
        "def string_repeat2(number,str):\n",
        "  vysledek=[]\n",
        "  for cislo in range(number):\n",
        "    vysledek.append(str)\n",
        "  return \"\".join(vysledek)\n",
        "\n",
        "string_repeat2(2, \"HawaiiPizza\")\n"
      ],
      "metadata": {
        "colab": {
          "base_uri": "https://localhost:8080/",
          "height": 35
        },
        "id": "ViHwaLGhmUiq",
        "outputId": "e79e9560-99fb-4726-adeb-dcd75b26de69"
      },
      "execution_count": 6,
      "outputs": [
        {
          "output_type": "execute_result",
          "data": {
            "text/plain": [
              "'HawaiiPizzaHawaiiPizza'"
            ],
            "application/vnd.google.colaboratory.intrinsic+json": {
              "type": "string"
            }
          },
          "metadata": {},
          "execution_count": 6
        }
      ]
    },
    {
      "cell_type": "markdown",
      "source": [
        "### Př. 2 No whitespaces\n",
        "Due to a design oversight, the pizza names are too long for the website's layout. The quickest fix is to remove all spaces from the names. Write a Python function named no_space() that takes a string str and returns it without any spaces.\n",
        "\n",
        "The `no_space()` function must return a string with all whitespaces removed.\n",
        "\n",
        "vstup: \" Pizza Hawaii \"\n",
        "\n",
        "výstup: \"PizzaHawaii\""
      ],
      "metadata": {
        "id": "JX3Je12ek1bs"
      }
    },
    {
      "cell_type": "code",
      "source": [
        "def no_space(str):\n",
        "  return str.replace(\" \",\"\")\n",
        "\n",
        "no_space(\" Piz za Haw aii \")"
      ],
      "metadata": {
        "colab": {
          "base_uri": "https://localhost:8080/",
          "height": 35
        },
        "id": "YzfpIO1OlAHD",
        "outputId": "6854d7e9-8e60-43e0-eab9-089ddad40b97"
      },
      "execution_count": 7,
      "outputs": [
        {
          "output_type": "execute_result",
          "data": {
            "text/plain": [
              "'PizzaHawaii'"
            ],
            "application/vnd.google.colaboratory.intrinsic+json": {
              "type": "string"
            }
          },
          "metadata": {},
          "execution_count": 7
        }
      ]
    },
    {
      "cell_type": "code",
      "source": [
        "def no_space2(str):\n",
        "  vysledek=str.split(\" \")\n",
        "  print(vysledek)\n",
        "  return \"\".join(vysledek)\n",
        "\n",
        "no_space2(\" Piz za Haw aii \")\n"
      ],
      "metadata": {
        "colab": {
          "base_uri": "https://localhost:8080/",
          "height": 53
        },
        "id": "w8Z3ZKqssJzY",
        "outputId": "9c97f27c-76d7-4494-942c-b59eba683b09"
      },
      "execution_count": 8,
      "outputs": [
        {
          "output_type": "stream",
          "name": "stdout",
          "text": [
            "['', 'Piz', 'za', 'Haw', 'aii', '']\n"
          ]
        },
        {
          "output_type": "execute_result",
          "data": {
            "text/plain": [
              "'PizzaHawaii'"
            ],
            "application/vnd.google.colaboratory.intrinsic+json": {
              "type": "string"
            }
          },
          "metadata": {},
          "execution_count": 8
        }
      ]
    },
    {
      "cell_type": "markdown",
      "source": [
        "### Př. 3 Number to string\n",
        "The order system is flawed; it can only process string inputs. Write a Python function named number_to_string() that accepts an integer and returns it as a string.\n",
        "\n",
        "The `number_to_string()` function should return a string.\n",
        "\n",
        "---\n",
        "vstup: integer: uživatel zadá číslo\n",
        "výstup: vrátit ve formátu string\n",
        "\n",
        "type( ) - string\n"
      ],
      "metadata": {
        "id": "frJl-2V_lE-1"
      }
    },
    {
      "cell_type": "code",
      "source": [
        "def number_to_string(integer):\n",
        "  return str(integer)\n",
        "\n",
        "number_to_string(123)"
      ],
      "metadata": {
        "colab": {
          "base_uri": "https://localhost:8080/"
        },
        "id": "klFafFcMlNbD",
        "outputId": "ed6b7512-b01c-469a-dbd8-43eb68e05f30"
      },
      "execution_count": 14,
      "outputs": [
        {
          "output_type": "stream",
          "name": "stdout",
          "text": [
            "Zadej číslo: 55\n",
            "<class 'str'> 55\n"
          ]
        }
      ]
    },
    {
      "cell_type": "markdown",
      "source": [
        "### Př. 3.1\n",
        "\n",
        "vstup: uživatel zadá 5 vstupů\n",
        "\n",
        "výstup je pole s pěti stringy\n",
        "\n",
        "Nápověda:.isnumeric()"
      ],
      "metadata": {
        "id": "dNRzuppcta8j"
      }
    },
    {
      "cell_type": "code",
      "source": [
        "def number_to_string_5x():\n",
        "  vysledek=[]\n",
        "  pocet_prubehu=5\n",
        "  for index in range(pocet_prubehu):\n",
        "    cislo=input(\"zadej cislo: \")\n",
        "    if cislo.isnumeric():\n",
        "      vysledek.append(str(cislo))\n",
        "    else:\n",
        "      vysledek.append(\"byl zadán text\")\n",
        "\n",
        "  return vysledek, type(vysledek)\n",
        "\n",
        "\n",
        "number_to_string_5x()"
      ],
      "metadata": {
        "colab": {
          "base_uri": "https://localhost:8080/"
        },
        "id": "VOrwRL52t3s6",
        "outputId": "af1118f2-fa93-4211-a8e3-995a25474d8b"
      },
      "execution_count": 16,
      "outputs": [
        {
          "name": "stdout",
          "output_type": "stream",
          "text": [
            "zadej cislo: 10\n",
            "zadej cislo: aaa\n",
            "zadej cislo: 5ac\n",
            "zadej cislo: 99\n",
            "zadej cislo:    5\n"
          ]
        },
        {
          "output_type": "execute_result",
          "data": {
            "text/plain": [
              "(['10', 'byl zadán text', 'byl zadán text', '99', 'byl zadán text'], list)"
            ]
          },
          "metadata": {},
          "execution_count": 16
        }
      ]
    },
    {
      "cell_type": "markdown",
      "source": [
        "### Př. 4 Boolean to string\n",
        "There are still issues with the ordering system. Create a Python function named boolean_to_string() that takes a boolean and returns it as a string.\n",
        "\n",
        "The `boolean_to_string()` function should return a string."
      ],
      "metadata": {
        "id": "6oPq031blOMT"
      }
    },
    {
      "cell_type": "code",
      "source": [],
      "metadata": {
        "id": "EVVCeZUzlXEq"
      },
      "execution_count": null,
      "outputs": []
    },
    {
      "cell_type": "markdown",
      "source": [
        "### Př. 5 Abbreviate a Pizza name\n",
        "To simplify the waitstaff's job, we need a function to abbreviate pizza names. Write a Python function named abbrev_name() that accepts a string consisting of two words and returns the initials of each word, separated by a dot.\n",
        "\n",
        "The `abbrev_name(\"Hawaii Pizza\")` function should return \"H.P.\n",
        "\""
      ],
      "metadata": {
        "id": "nHdCOq9ilXfu"
      }
    },
    {
      "cell_type": "code",
      "source": [
        "def abbrev_name(str):\n",
        "  vysledek=[]\n",
        "  pole_pizz=str.split(\" \")\n",
        "  for nazev in range(len(pole_pizz)):\n",
        "    vysledek.append(pole_pizz[nazev][0].capitalize())\n",
        "  return \".\".join(vysledek)+\".\""
      ],
      "metadata": {
        "id": "Gd7bCALXljfC"
      },
      "execution_count": 49,
      "outputs": []
    },
    {
      "cell_type": "code",
      "source": [
        "abbrev_name(\"quatro al Formagi\")"
      ],
      "metadata": {
        "colab": {
          "base_uri": "https://localhost:8080/",
          "height": 35
        },
        "id": "FKW9T7qd8Hh3",
        "outputId": "f39f17d7-a76b-49a7-9272-1c0d62e50684"
      },
      "execution_count": 50,
      "outputs": [
        {
          "output_type": "execute_result",
          "data": {
            "text/plain": [
              "'Q.A.F.'"
            ],
            "application/vnd.google.colaboratory.intrinsic+json": {
              "type": "string"
            }
          },
          "metadata": {},
          "execution_count": 50
        }
      ]
    },
    {
      "cell_type": "markdown",
      "source": [
        "### Př. 6 Pizza length\n",
        "Create a Python function named name_length() that takes a string and returns a list where each element's length is appended next to it.\n",
        "\n",
        "The `name_length(\"hawaii pizza\")` function should return `[\"hawaii 6\", \"pizza 5\"]`."
      ],
      "metadata": {
        "id": "C9lja6zzlmhT"
      }
    },
    {
      "cell_type": "code",
      "source": [],
      "metadata": {
        "id": "uxJmu0hvlr6U"
      },
      "execution_count": null,
      "outputs": []
    },
    {
      "cell_type": "markdown",
      "source": [
        "### Př. 7 Remove the first and last element\n",
        "Due to an error, two extra orders were added by mistake. Write a Python function named `remove_orders()` that takes a string of numbers separated by commas, converts it into a list, removes the first and last elements, and then returns the modified list as a string.\n",
        "\n",
        "The `remove_orders(\"1,2,3,4\")` function should return `\"2,3\"`."
      ],
      "metadata": {
        "id": "R8p0vaOnluDz"
      }
    },
    {
      "cell_type": "code",
      "source": [],
      "metadata": {
        "id": "lrgHF51aqDTC"
      },
      "execution_count": null,
      "outputs": []
    },
    {
      "cell_type": "markdown",
      "source": [
        "### Př. 8 The menu\n",
        "Implement a Python function named `food_menu() `that takes a list of food items as an argument and returns a new list with each item prefixed by its position in the original list.\n",
        "\n",
        "The `food_menu([\"Hawaii Pizza\", \"Diablo Pizza\"])` function should return `[\"1. Hawaii Pizza\", \"2. Diablo Pizza\"].`"
      ],
      "metadata": {
        "id": "eNTHxQQ8qDyh"
      }
    },
    {
      "cell_type": "code",
      "source": [],
      "metadata": {
        "id": "C5FXtC58qUK3"
      },
      "execution_count": null,
      "outputs": []
    }
  ]
}